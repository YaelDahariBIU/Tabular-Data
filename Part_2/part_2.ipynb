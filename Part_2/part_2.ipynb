{
 "cells": [
  {
   "cell_type": "markdown",
   "metadata": {},
   "source": [
    "# 0. Imports"
   ]
  },
  {
   "cell_type": "markdown",
   "metadata": {},
   "source": [
    "## 0.1 Libraries"
   ]
  },
  {
   "cell_type": "code",
   "execution_count": 14,
   "metadata": {},
   "outputs": [],
   "source": [
    "import numpy as np\n",
    "import pandas as pd \n",
    "\n",
    "import matplotlib.pyplot as plt\n",
    "import seaborn as sns\n",
    "\n",
    "from scipy.stats import ks_2samp\n",
    "\n",
    "from sklearn.linear_model import LinearRegression\n",
    "from sklearn.metrics import r2_score,mean_squared_error, mean_absolute_percentage_error,mean_absolute_error\n",
    "from sklearn.preprocessing import OrdinalEncoder\n",
    "\n",
    "import shap"
   ]
  },
  {
   "cell_type": "markdown",
   "metadata": {},
   "source": [
    "## 0.2. Model and data from part 1"
   ]
  },
  {
   "cell_type": "code",
   "execution_count": 15,
   "metadata": {},
   "outputs": [],
   "source": [
    "from pickle import load\n",
    "with open(\"../Part_1/part_1_model.pkl\", \"rb\") as f:\n",
    "    linear_reg = load(f)\n",
    "\n",
    "df_train = pd.read_csv('../Part_1/data/processed_train_data.csv',index_col='id') # Data after transforming and imputing\n",
    "df_test = pd.read_csv('../Part_1/data/processed_test_data.csv',index_col='id')"
   ]
  },
  {
   "cell_type": "code",
   "execution_count": 16,
   "metadata": {},
   "outputs": [
    {
     "data": {
      "text/plain": [
       "((150826, 62), (37707, 62))"
      ]
     },
     "execution_count": 16,
     "metadata": {},
     "output_type": "execute_result"
    }
   ],
   "source": [
    "df_train.shape, df_test.shape"
   ]
  },
  {
   "cell_type": "code",
   "execution_count": 17,
   "metadata": {},
   "outputs": [
    {
     "data": {
      "text/html": [
       "<div>\n",
       "<style scoped>\n",
       "    .dataframe tbody tr th:only-of-type {\n",
       "        vertical-align: middle;\n",
       "    }\n",
       "\n",
       "    .dataframe tbody tr th {\n",
       "        vertical-align: top;\n",
       "    }\n",
       "\n",
       "    .dataframe thead th {\n",
       "        text-align: right;\n",
       "    }\n",
       "</style>\n",
       "<table border=\"1\" class=\"dataframe\">\n",
       "  <thead>\n",
       "    <tr style=\"text-align: right;\">\n",
       "      <th></th>\n",
       "      <th>model_year</th>\n",
       "      <th>milage</th>\n",
       "      <th>accident</th>\n",
       "      <th>clean_title</th>\n",
       "      <th>horse_power</th>\n",
       "      <th>tank_size</th>\n",
       "      <th>num_cylinders</th>\n",
       "      <th>automatic</th>\n",
       "      <th>manual</th>\n",
       "      <th>dual</th>\n",
       "      <th>...</th>\n",
       "      <th>int_col_Brown</th>\n",
       "      <th>int_col_Ebony</th>\n",
       "      <th>int_col_Global Black</th>\n",
       "      <th>int_col_Gray</th>\n",
       "      <th>int_col_Jet Black</th>\n",
       "      <th>int_col_Orange</th>\n",
       "      <th>int_col_Red</th>\n",
       "      <th>int_col_White</th>\n",
       "      <th>int_col_other</th>\n",
       "      <th>price</th>\n",
       "    </tr>\n",
       "    <tr>\n",
       "      <th>id</th>\n",
       "      <th></th>\n",
       "      <th></th>\n",
       "      <th></th>\n",
       "      <th></th>\n",
       "      <th></th>\n",
       "      <th></th>\n",
       "      <th></th>\n",
       "      <th></th>\n",
       "      <th></th>\n",
       "      <th></th>\n",
       "      <th></th>\n",
       "      <th></th>\n",
       "      <th></th>\n",
       "      <th></th>\n",
       "      <th></th>\n",
       "      <th></th>\n",
       "      <th></th>\n",
       "      <th></th>\n",
       "      <th></th>\n",
       "      <th></th>\n",
       "      <th></th>\n",
       "    </tr>\n",
       "  </thead>\n",
       "  <tbody>\n",
       "    <tr>\n",
       "      <th>0</th>\n",
       "      <td>2007</td>\n",
       "      <td>213000</td>\n",
       "      <td>False</td>\n",
       "      <td>True</td>\n",
       "      <td>172.0</td>\n",
       "      <td>1.6</td>\n",
       "      <td>4.0</td>\n",
       "      <td>True</td>\n",
       "      <td>False</td>\n",
       "      <td>False</td>\n",
       "      <td>...</td>\n",
       "      <td>False</td>\n",
       "      <td>False</td>\n",
       "      <td>False</td>\n",
       "      <td>True</td>\n",
       "      <td>False</td>\n",
       "      <td>False</td>\n",
       "      <td>False</td>\n",
       "      <td>False</td>\n",
       "      <td>False</td>\n",
       "      <td>4200</td>\n",
       "    </tr>\n",
       "    <tr>\n",
       "      <th>1</th>\n",
       "      <td>2002</td>\n",
       "      <td>143250</td>\n",
       "      <td>True</td>\n",
       "      <td>True</td>\n",
       "      <td>252.0</td>\n",
       "      <td>3.9</td>\n",
       "      <td>8.0</td>\n",
       "      <td>True</td>\n",
       "      <td>False</td>\n",
       "      <td>False</td>\n",
       "      <td>...</td>\n",
       "      <td>False</td>\n",
       "      <td>False</td>\n",
       "      <td>False</td>\n",
       "      <td>False</td>\n",
       "      <td>False</td>\n",
       "      <td>False</td>\n",
       "      <td>False</td>\n",
       "      <td>False</td>\n",
       "      <td>False</td>\n",
       "      <td>4999</td>\n",
       "    </tr>\n",
       "    <tr>\n",
       "      <th>2</th>\n",
       "      <td>2002</td>\n",
       "      <td>136731</td>\n",
       "      <td>False</td>\n",
       "      <td>True</td>\n",
       "      <td>320.0</td>\n",
       "      <td>5.3</td>\n",
       "      <td>8.0</td>\n",
       "      <td>True</td>\n",
       "      <td>False</td>\n",
       "      <td>False</td>\n",
       "      <td>...</td>\n",
       "      <td>False</td>\n",
       "      <td>False</td>\n",
       "      <td>False</td>\n",
       "      <td>True</td>\n",
       "      <td>False</td>\n",
       "      <td>False</td>\n",
       "      <td>False</td>\n",
       "      <td>False</td>\n",
       "      <td>False</td>\n",
       "      <td>13900</td>\n",
       "    </tr>\n",
       "    <tr>\n",
       "      <th>3</th>\n",
       "      <td>2017</td>\n",
       "      <td>19500</td>\n",
       "      <td>False</td>\n",
       "      <td>True</td>\n",
       "      <td>420.0</td>\n",
       "      <td>5.0</td>\n",
       "      <td>8.0</td>\n",
       "      <td>False</td>\n",
       "      <td>False</td>\n",
       "      <td>True</td>\n",
       "      <td>...</td>\n",
       "      <td>False</td>\n",
       "      <td>False</td>\n",
       "      <td>False</td>\n",
       "      <td>False</td>\n",
       "      <td>False</td>\n",
       "      <td>False</td>\n",
       "      <td>False</td>\n",
       "      <td>False</td>\n",
       "      <td>False</td>\n",
       "      <td>45000</td>\n",
       "    </tr>\n",
       "    <tr>\n",
       "      <th>4</th>\n",
       "      <td>2021</td>\n",
       "      <td>7388</td>\n",
       "      <td>False</td>\n",
       "      <td>True</td>\n",
       "      <td>208.0</td>\n",
       "      <td>2.0</td>\n",
       "      <td>4.0</td>\n",
       "      <td>True</td>\n",
       "      <td>False</td>\n",
       "      <td>False</td>\n",
       "      <td>...</td>\n",
       "      <td>False</td>\n",
       "      <td>False</td>\n",
       "      <td>False</td>\n",
       "      <td>False</td>\n",
       "      <td>False</td>\n",
       "      <td>False</td>\n",
       "      <td>False</td>\n",
       "      <td>False</td>\n",
       "      <td>False</td>\n",
       "      <td>97500</td>\n",
       "    </tr>\n",
       "  </tbody>\n",
       "</table>\n",
       "<p>5 rows × 62 columns</p>\n",
       "</div>"
      ],
      "text/plain": [
       "    model_year  milage  accident  clean_title  horse_power  tank_size  \\\n",
       "id                                                                      \n",
       "0         2007  213000     False         True        172.0        1.6   \n",
       "1         2002  143250      True         True        252.0        3.9   \n",
       "2         2002  136731     False         True        320.0        5.3   \n",
       "3         2017   19500     False         True        420.0        5.0   \n",
       "4         2021    7388     False         True        208.0        2.0   \n",
       "\n",
       "    num_cylinders  automatic  manual   dual  ...  int_col_Brown  \\\n",
       "id                                           ...                  \n",
       "0             4.0       True   False  False  ...          False   \n",
       "1             8.0       True   False  False  ...          False   \n",
       "2             8.0       True   False  False  ...          False   \n",
       "3             8.0      False   False   True  ...          False   \n",
       "4             4.0       True   False  False  ...          False   \n",
       "\n",
       "    int_col_Ebony  int_col_Global Black  int_col_Gray  int_col_Jet Black  \\\n",
       "id                                                                         \n",
       "0           False                 False          True              False   \n",
       "1           False                 False         False              False   \n",
       "2           False                 False          True              False   \n",
       "3           False                 False         False              False   \n",
       "4           False                 False         False              False   \n",
       "\n",
       "    int_col_Orange  int_col_Red  int_col_White  int_col_other  price  \n",
       "id                                                                    \n",
       "0            False        False          False          False   4200  \n",
       "1            False        False          False          False   4999  \n",
       "2            False        False          False          False  13900  \n",
       "3            False        False          False          False  45000  \n",
       "4            False        False          False          False  97500  \n",
       "\n",
       "[5 rows x 62 columns]"
      ]
     },
     "execution_count": 17,
     "metadata": {},
     "output_type": "execute_result"
    }
   ],
   "source": [
    "df_train.head()"
   ]
  },
  {
   "cell_type": "code",
   "execution_count": 18,
   "metadata": {},
   "outputs": [
    {
     "data": {
      "text/html": [
       "<div>\n",
       "<style scoped>\n",
       "    .dataframe tbody tr th:only-of-type {\n",
       "        vertical-align: middle;\n",
       "    }\n",
       "\n",
       "    .dataframe tbody tr th {\n",
       "        vertical-align: top;\n",
       "    }\n",
       "\n",
       "    .dataframe thead th {\n",
       "        text-align: right;\n",
       "    }\n",
       "</style>\n",
       "<table border=\"1\" class=\"dataframe\">\n",
       "  <thead>\n",
       "    <tr style=\"text-align: right;\">\n",
       "      <th></th>\n",
       "      <th>model_year</th>\n",
       "      <th>milage</th>\n",
       "      <th>accident</th>\n",
       "      <th>clean_title</th>\n",
       "      <th>horse_power</th>\n",
       "      <th>tank_size</th>\n",
       "      <th>num_cylinders</th>\n",
       "      <th>automatic</th>\n",
       "      <th>manual</th>\n",
       "      <th>dual</th>\n",
       "      <th>...</th>\n",
       "      <th>int_col_Brown</th>\n",
       "      <th>int_col_Ebony</th>\n",
       "      <th>int_col_Global Black</th>\n",
       "      <th>int_col_Gray</th>\n",
       "      <th>int_col_Jet Black</th>\n",
       "      <th>int_col_Orange</th>\n",
       "      <th>int_col_Red</th>\n",
       "      <th>int_col_White</th>\n",
       "      <th>int_col_other</th>\n",
       "      <th>price</th>\n",
       "    </tr>\n",
       "    <tr>\n",
       "      <th>id</th>\n",
       "      <th></th>\n",
       "      <th></th>\n",
       "      <th></th>\n",
       "      <th></th>\n",
       "      <th></th>\n",
       "      <th></th>\n",
       "      <th></th>\n",
       "      <th></th>\n",
       "      <th></th>\n",
       "      <th></th>\n",
       "      <th></th>\n",
       "      <th></th>\n",
       "      <th></th>\n",
       "      <th></th>\n",
       "      <th></th>\n",
       "      <th></th>\n",
       "      <th></th>\n",
       "      <th></th>\n",
       "      <th></th>\n",
       "      <th></th>\n",
       "      <th></th>\n",
       "    </tr>\n",
       "  </thead>\n",
       "  <tbody>\n",
       "    <tr>\n",
       "      <th>150826</th>\n",
       "      <td>2021</td>\n",
       "      <td>52253</td>\n",
       "      <td>True</td>\n",
       "      <td>False</td>\n",
       "      <td>343.0</td>\n",
       "      <td>2.5</td>\n",
       "      <td>6.0</td>\n",
       "      <td>True</td>\n",
       "      <td>False</td>\n",
       "      <td>False</td>\n",
       "      <td>...</td>\n",
       "      <td>False</td>\n",
       "      <td>False</td>\n",
       "      <td>False</td>\n",
       "      <td>False</td>\n",
       "      <td>False</td>\n",
       "      <td>False</td>\n",
       "      <td>False</td>\n",
       "      <td>False</td>\n",
       "      <td>True</td>\n",
       "      <td>25215</td>\n",
       "    </tr>\n",
       "    <tr>\n",
       "      <th>150827</th>\n",
       "      <td>2006</td>\n",
       "      <td>127500</td>\n",
       "      <td>False</td>\n",
       "      <td>True</td>\n",
       "      <td>208.0</td>\n",
       "      <td>2.0</td>\n",
       "      <td>4.0</td>\n",
       "      <td>True</td>\n",
       "      <td>False</td>\n",
       "      <td>False</td>\n",
       "      <td>...</td>\n",
       "      <td>False</td>\n",
       "      <td>False</td>\n",
       "      <td>False</td>\n",
       "      <td>False</td>\n",
       "      <td>False</td>\n",
       "      <td>False</td>\n",
       "      <td>False</td>\n",
       "      <td>False</td>\n",
       "      <td>False</td>\n",
       "      <td>9750</td>\n",
       "    </tr>\n",
       "    <tr>\n",
       "      <th>150828</th>\n",
       "      <td>2005</td>\n",
       "      <td>16300</td>\n",
       "      <td>False</td>\n",
       "      <td>True</td>\n",
       "      <td>239.0</td>\n",
       "      <td>4.6</td>\n",
       "      <td>8.0</td>\n",
       "      <td>True</td>\n",
       "      <td>False</td>\n",
       "      <td>False</td>\n",
       "      <td>...</td>\n",
       "      <td>False</td>\n",
       "      <td>False</td>\n",
       "      <td>False</td>\n",
       "      <td>True</td>\n",
       "      <td>False</td>\n",
       "      <td>False</td>\n",
       "      <td>False</td>\n",
       "      <td>False</td>\n",
       "      <td>False</td>\n",
       "      <td>19950</td>\n",
       "    </tr>\n",
       "    <tr>\n",
       "      <th>150829</th>\n",
       "      <td>2012</td>\n",
       "      <td>13133</td>\n",
       "      <td>False</td>\n",
       "      <td>True</td>\n",
       "      <td>333.0</td>\n",
       "      <td>3.0</td>\n",
       "      <td>6.0</td>\n",
       "      <td>True</td>\n",
       "      <td>False</td>\n",
       "      <td>False</td>\n",
       "      <td>...</td>\n",
       "      <td>False</td>\n",
       "      <td>False</td>\n",
       "      <td>False</td>\n",
       "      <td>False</td>\n",
       "      <td>False</td>\n",
       "      <td>False</td>\n",
       "      <td>False</td>\n",
       "      <td>False</td>\n",
       "      <td>False</td>\n",
       "      <td>13999</td>\n",
       "    </tr>\n",
       "    <tr>\n",
       "      <th>150830</th>\n",
       "      <td>2011</td>\n",
       "      <td>106000</td>\n",
       "      <td>True</td>\n",
       "      <td>True</td>\n",
       "      <td>300.0</td>\n",
       "      <td>3.0</td>\n",
       "      <td>6.0</td>\n",
       "      <td>False</td>\n",
       "      <td>False</td>\n",
       "      <td>True</td>\n",
       "      <td>...</td>\n",
       "      <td>False</td>\n",
       "      <td>False</td>\n",
       "      <td>False</td>\n",
       "      <td>False</td>\n",
       "      <td>False</td>\n",
       "      <td>False</td>\n",
       "      <td>False</td>\n",
       "      <td>False</td>\n",
       "      <td>False</td>\n",
       "      <td>6900</td>\n",
       "    </tr>\n",
       "  </tbody>\n",
       "</table>\n",
       "<p>5 rows × 62 columns</p>\n",
       "</div>"
      ],
      "text/plain": [
       "        model_year  milage  accident  clean_title  horse_power  tank_size  \\\n",
       "id                                                                          \n",
       "150826        2021   52253      True        False        343.0        2.5   \n",
       "150827        2006  127500     False         True        208.0        2.0   \n",
       "150828        2005   16300     False         True        239.0        4.6   \n",
       "150829        2012   13133     False         True        333.0        3.0   \n",
       "150830        2011  106000      True         True        300.0        3.0   \n",
       "\n",
       "        num_cylinders  automatic  manual   dual  ...  int_col_Brown  \\\n",
       "id                                               ...                  \n",
       "150826            6.0       True   False  False  ...          False   \n",
       "150827            4.0       True   False  False  ...          False   \n",
       "150828            8.0       True   False  False  ...          False   \n",
       "150829            6.0       True   False  False  ...          False   \n",
       "150830            6.0      False   False   True  ...          False   \n",
       "\n",
       "        int_col_Ebony  int_col_Global Black  int_col_Gray  int_col_Jet Black  \\\n",
       "id                                                                             \n",
       "150826          False                 False         False              False   \n",
       "150827          False                 False         False              False   \n",
       "150828          False                 False          True              False   \n",
       "150829          False                 False         False              False   \n",
       "150830          False                 False         False              False   \n",
       "\n",
       "        int_col_Orange  int_col_Red  int_col_White  int_col_other  price  \n",
       "id                                                                        \n",
       "150826           False        False          False           True  25215  \n",
       "150827           False        False          False          False   9750  \n",
       "150828           False        False          False          False  19950  \n",
       "150829           False        False          False          False  13999  \n",
       "150830           False        False          False          False   6900  \n",
       "\n",
       "[5 rows x 62 columns]"
      ]
     },
     "execution_count": 18,
     "metadata": {},
     "output_type": "execute_result"
    }
   ],
   "source": [
    "df_test.head()"
   ]
  },
  {
   "cell_type": "code",
   "execution_count": 19,
   "metadata": {},
   "outputs": [],
   "source": [
    "def train_score_model (df_train, df_test):\n",
    "\ty_train = df_train['price']\n",
    "\tX_train = df_train.drop(columns='price')\n",
    "\ty_test = df_test['price']\n",
    "\tX_test = df_test.drop(columns='price')\n",
    "\t\n",
    "\tlinear_reg = LinearRegression()\n",
    "\tlinear_reg.fit(X_train, y_train)\n",
    "\ty_pred = linear_reg.predict(X_test)\n",
    "\t\n",
    "\tr2 = r2_score(y_test, y_pred)\n",
    "\t\n",
    "\treturn r2"
   ]
  },
  {
   "cell_type": "code",
   "execution_count": 20,
   "metadata": {},
   "outputs": [
    {
     "name": "stdout",
     "output_type": "stream",
     "text": [
      "The R2 score of the model train and tested on the train data is: 0.10881674237978001\n"
     ]
    }
   ],
   "source": [
    "print(f'The R2 score of the model train and tested on the train data is: {train_score_model(df_train, df_train)}')"
   ]
  },
  {
   "cell_type": "code",
   "execution_count": 21,
   "metadata": {},
   "outputs": [
    {
     "data": {
      "image/png": "[encoded data removed]",
      "text/plain": [
       "<Figure size 800x500 with 1 Axes>"
      ]
     },
     "metadata": {},
     "output_type": "display_data"
    }
   ],
   "source": [
    "y_train = df_train['price']\n",
    "X_train = df_train.drop(columns='price')\n",
    "y_test = df_test['price']\n",
    "X_test = df_test.drop(columns='price')\n",
    "\n",
    "linear_reg = LinearRegression()\n",
    "linear_reg.fit(X_train, y_train)\n",
    "y_pred = linear_reg.predict(X_test)\n",
    "\n",
    "# Create the scatter plot and line plot\n",
    "fig, ax = plt.subplots(figsize=(8, 5))\n",
    "sns.scatterplot(x=y_test, y=y_test, ax=ax, label='Actual Prices')\n",
    "sns.lineplot(x=y_test, y=y_pred, ax=ax, color='red', label='Predicted Prices')\n",
    "\n",
    "ax.set_xlabel('Actual Prices')\n",
    "ax.set_ylabel('Prices')\n",
    "ax.legend()\n",
    "plt.show()"
   ]
  },
  {
   "cell_type": "markdown",
   "metadata": {},
   "source": [
    "# 1. Error Analysis"
   ]
  },
  {
   "cell_type": "markdown",
   "metadata": {},
   "source": [
    "First, we wanted to confirm that the errors of our model do not result from a prr distribution od the data in the train and test sets.\n",
    "\n",
    "The train set data is painted colored blue and the test set data is colored orange.\n",
    "\n",
    "We can see that the distributions are quite similar, most of the graphs have a red shade - because the train and test mostly overlap.\n",
    "\n",
    "In additon, we added a Two-Sample KS test for a quantifiable measure."
   ]
  },
  {
   "cell_type": "code",
   "execution_count": 22,
   "metadata": {},
   "outputs": [
    {
     "data": {
      "image/png": "[encoded data removed]",
      "text/plain": [
       "<Figure size 1500x1500 with 6 Axes>"
      ]
     },
     "metadata": {},
     "output_type": "display_data"
    }
   ],
   "source": [
    "columns_to_hist = ['model_year', 'milage', 'horse_power', 'tank_size', 'num_cylinders', 'price']\n",
    "\n",
    "fig, axes = plt.subplots(6, 1, figsize=(15, 15))\n",
    "for i, column in enumerate(columns_to_hist):\n",
    "    sns.histplot(df_train[column], ax=axes[i], color='blue', label='Train', alpha=0.5)\n",
    "    sns.histplot(df_test[column], ax=axes[i], color='orange', label='Test', alpha=0.5)\n",
    "    res,pval = ks_2samp(df_train[column],df_test[column])\n",
    "    axes[i].set_title(f'Column: {column}, KS-Test: {round(res, 3)} - P-Value: {round(pval, 3)}')\n",
    "    axes[i].legend()\n",
    "fig.suptitle('Train and Test Distributions\\n', fontsize=20)\n",
    "plt.tight_layout()\n",
    "plt.show()"
   ]
  },
  {
   "cell_type": "markdown",
   "metadata": {},
   "source": [
    "## 1.1 Explainability changes"
   ]
  },
  {
   "cell_type": "markdown",
   "metadata": {},
   "source": [
    "To improve the model explainability we would like to transform attributes differently than we did in the previous exercise.\n",
    "\n",
    "Doing this would allow us to analyse the model errors better, as there would be less features that would clutter our view of the importance of each feature.\n",
    "\n",
    "This is based on our first attempt at error analysis. We noticed how difficult it was for us to interpret the results from the SHAP graphs of the previous exercise."
   ]
  },
  {
   "cell_type": "code",
   "execution_count": 23,
   "metadata": {},
   "outputs": [],
   "source": [
    "org_df_train = pd.read_csv('../Part_1/data/raw_train_data.csv',index_col='id')\n",
    "org_df_test = pd.read_csv('../Part_1/data/raw_test_data.csv',index_col='id')"
   ]
  },
  {
   "cell_type": "markdown",
   "metadata": {},
   "source": [
    "### 1.1.1 Color"
   ]
  },
  {
   "cell_type": "markdown",
   "metadata": {},
   "source": [
    "In the previous exercise we decided to discard of colors which were not of the top 12 most common colors.\n",
    "This time we do not lose data by grouping defferent shades to their \"origin\" color.\n",
    "\n",
    "In exchange we minimize the variety of our data column - under the premis that the differences in shade are not meaningful for the prediction of the car price."
   ]
  },
  {
   "cell_type": "code",
   "execution_count": 24,
   "metadata": {},
   "outputs": [],
   "source": [
    "colors_drop = [col for col in df_train if col.startswith((\"int\", \"ext\"))]"
   ]
  },
  {
   "cell_type": "code",
   "execution_count": 25,
   "metadata": {},
   "outputs": [],
   "source": [
    "df_train = df_train.drop(columns=colors_drop)\n",
    "df_test = df_test.drop(columns=colors_drop)"
   ]
  },
  {
   "cell_type": "code",
   "execution_count": 26,
   "metadata": {},
   "outputs": [],
   "source": [
    "df_train = pd.concat([df_train,org_df_train[['int_col', 'ext_col']]],axis=1)\n",
    "df_test = pd.concat([df_test,org_df_test[['int_col', 'ext_col']]],axis=1)"
   ]
  },
  {
   "cell_type": "markdown",
   "metadata": {},
   "source": [
    "Colors that fall into \"Other\":\n",
    "\n",
    "'oyster w/contrast', 'ceramic', 'gideon',\n",
    "'sport', '–', 'designo magno matte',\n",
    "'dark sapphire', 'custom color', 'tempest', 'lunar rock',\n",
    "'nightfall mica', 'granite', 'Pink', 'c / c', 'yulong',\n",
    "'go mango!', 'grigio nimbus', 'metallic'"
   ]
  },
  {
   "cell_type": "code",
   "execution_count": 27,
   "metadata": {},
   "outputs": [],
   "source": [
    "def categorize_color(color):\n",
    "    color = color.lower()\n",
    "    # Black group\n",
    "    if any(x in color for x in [\n",
    "        'black', 'obsidian', 'raven', 'onyx', 'ebony', 'nero', 'blk',\n",
    "        'graphite', 'charcoal', 'dark ash', 'anthracite', 'caviar', \n",
    "        'dark matter', 'magnetic', 'beluga', 'dark galvanized']):\n",
    "        return 'Black'\n",
    "    # White group\n",
    "    elif any(x in color for x in [\n",
    "        'white', 'pearl', 'ivory', 'frost', 'platinum', 'ice', 'cloud',\n",
    "        'chalk', 'bianco', 'glacier', 'linen', 'very light cashmere', \n",
    "        'parchment', 'parchment.']):\n",
    "        return 'White'\n",
    "    # Blue group\n",
    "    elif any(x in color for x in [\n",
    "        'blue', 'navy', 'aqua', 'teal', 'stormy', 'blu', 'eleos']):\n",
    "        return 'Blue'\n",
    "    # Red group\n",
    "    elif any(x in color for x in [\n",
    "        'red', 'ruby', 'garnet', 'hotspur', 'pimento', 'rosso', \n",
    "        'scarlet', 'mars', 'corsa', 'chateau']):\n",
    "        return 'Red'\n",
    "    # Silver/Gray group\n",
    "    elif any(x in color for x in [\n",
    "        'silver', 'gray', 'grey', 'steel', 'medium pewter', 'slate', \n",
    "        'boulder', 'porpoise', 'light slate', 'tungsten', 'gun metallic', \n",
    "        'medium stone', 'portland', 'mesa', 'ash']):\n",
    "        return 'Silver_Gray'\n",
    "    # Green group\n",
    "    elif any(x in color for x in [\n",
    "        'green', 'verde', 'moss', 'deep cypress']):\n",
    "        return 'Green'\n",
    "    # Yellow/Orange group\n",
    "    elif any(x in color for x in [\n",
    "        'yellow', 'gold', 'orange', 'amber', 'arancio', 'hellayella', \n",
    "        'sunset drift', 'sandstone', 'tension']):\n",
    "        return 'Yellow_Orange'\n",
    "    # Brown group\n",
    "    elif any(x in color for x in [\n",
    "        'brown', 'beige', 'tan', 'mocha', 'brandy', 'chestnut', \n",
    "        'espresso', 'roast', 'dark auburn', 'aragon', 'bronze', \n",
    "        'dune', 'maroon', 'walnut', 'camel', 'caramel', 'macchiato', \n",
    "        'medium light camel', 'shale', 'cappuccino', 'tupelo']):\n",
    "        return 'Brown'\n",
    "    # Purple group\n",
    "    elif any(x in color for x in ['purple', 'plum', 'ametrin', 'orchid', 'pink']):\n",
    "        return 'Purple_Pink'\n",
    "    # Default for unclassified entries\n",
    "    else:\n",
    "        return 'Other'"
   ]
  },
  {
   "cell_type": "code",
   "execution_count": 28,
   "metadata": {},
   "outputs": [],
   "source": [
    "df_train['int_col'] = df_train['int_col'].apply(categorize_color)\n",
    "df_train['ext_col'] = df_train['ext_col'].apply(categorize_color)\n",
    "\n",
    "df_test['int_col'] = df_test['int_col'].apply(categorize_color)\n",
    "df_test['ext_col'] = df_test['ext_col'].apply(categorize_color)"
   ]
  },
  {
   "cell_type": "markdown",
   "metadata": {},
   "source": [
    "Converting the new int_color, ext_color to One-Hot features for the Linear Regression model.\n",
    "\n",
    "We combine train and test data to ensure consistent encoding."
   ]
  },
  {
   "cell_type": "code",
   "execution_count": 29,
   "metadata": {},
   "outputs": [],
   "source": [
    "df_combined = pd.concat([df_train, df_test])\n",
    "\n",
    "# Convert categorical columns to numeric using one-hot encoding\n",
    "df_combined = pd.get_dummies(df_combined, columns=['int_col', 'ext_col'], drop_first=True)\n",
    "\n",
    "# boolean_columns = df_combined.select_dtypes(include=['bool']).columns\n",
    "# df_combined[boolean_columns] = df_combined[boolean_columns].astype(int)\n",
    "\n",
    "# Split the combined data back into train and test sets\n",
    "df_train = df_combined.iloc[:len(df_train)]\n",
    "df_test = df_combined.iloc[len(df_train):]"
   ]
  },
  {
   "cell_type": "code",
   "execution_count": 30,
   "metadata": {},
   "outputs": [
    {
     "data": {
      "text/html": [
       "<div>\n",
       "<style scoped>\n",
       "    .dataframe tbody tr th:only-of-type {\n",
       "        vertical-align: middle;\n",
       "    }\n",
       "\n",
       "    .dataframe tbody tr th {\n",
       "        vertical-align: top;\n",
       "    }\n",
       "\n",
       "    .dataframe thead th {\n",
       "        text-align: right;\n",
       "    }\n",
       "</style>\n",
       "<table border=\"1\" class=\"dataframe\">\n",
       "  <thead>\n",
       "    <tr style=\"text-align: right;\">\n",
       "      <th></th>\n",
       "      <th>model_year</th>\n",
       "      <th>milage</th>\n",
       "      <th>accident</th>\n",
       "      <th>clean_title</th>\n",
       "      <th>horse_power</th>\n",
       "      <th>tank_size</th>\n",
       "      <th>num_cylinders</th>\n",
       "      <th>automatic</th>\n",
       "      <th>manual</th>\n",
       "      <th>dual</th>\n",
       "      <th>...</th>\n",
       "      <th>int_col_Yellow_Orange</th>\n",
       "      <th>ext_col_Blue</th>\n",
       "      <th>ext_col_Brown</th>\n",
       "      <th>ext_col_Green</th>\n",
       "      <th>ext_col_Other</th>\n",
       "      <th>ext_col_Purple_Pink</th>\n",
       "      <th>ext_col_Red</th>\n",
       "      <th>ext_col_Silver_Gray</th>\n",
       "      <th>ext_col_White</th>\n",
       "      <th>ext_col_Yellow_Orange</th>\n",
       "    </tr>\n",
       "    <tr>\n",
       "      <th>id</th>\n",
       "      <th></th>\n",
       "      <th></th>\n",
       "      <th></th>\n",
       "      <th></th>\n",
       "      <th></th>\n",
       "      <th></th>\n",
       "      <th></th>\n",
       "      <th></th>\n",
       "      <th></th>\n",
       "      <th></th>\n",
       "      <th></th>\n",
       "      <th></th>\n",
       "      <th></th>\n",
       "      <th></th>\n",
       "      <th></th>\n",
       "      <th></th>\n",
       "      <th></th>\n",
       "      <th></th>\n",
       "      <th></th>\n",
       "      <th></th>\n",
       "      <th></th>\n",
       "    </tr>\n",
       "  </thead>\n",
       "  <tbody>\n",
       "    <tr>\n",
       "      <th>0</th>\n",
       "      <td>2007</td>\n",
       "      <td>213000</td>\n",
       "      <td>False</td>\n",
       "      <td>True</td>\n",
       "      <td>172.0</td>\n",
       "      <td>1.6</td>\n",
       "      <td>4.0</td>\n",
       "      <td>True</td>\n",
       "      <td>False</td>\n",
       "      <td>False</td>\n",
       "      <td>...</td>\n",
       "      <td>False</td>\n",
       "      <td>False</td>\n",
       "      <td>False</td>\n",
       "      <td>False</td>\n",
       "      <td>False</td>\n",
       "      <td>False</td>\n",
       "      <td>False</td>\n",
       "      <td>False</td>\n",
       "      <td>False</td>\n",
       "      <td>True</td>\n",
       "    </tr>\n",
       "    <tr>\n",
       "      <th>1</th>\n",
       "      <td>2002</td>\n",
       "      <td>143250</td>\n",
       "      <td>True</td>\n",
       "      <td>True</td>\n",
       "      <td>252.0</td>\n",
       "      <td>3.9</td>\n",
       "      <td>8.0</td>\n",
       "      <td>True</td>\n",
       "      <td>False</td>\n",
       "      <td>False</td>\n",
       "      <td>...</td>\n",
       "      <td>False</td>\n",
       "      <td>False</td>\n",
       "      <td>False</td>\n",
       "      <td>False</td>\n",
       "      <td>False</td>\n",
       "      <td>False</td>\n",
       "      <td>False</td>\n",
       "      <td>True</td>\n",
       "      <td>False</td>\n",
       "      <td>False</td>\n",
       "    </tr>\n",
       "    <tr>\n",
       "      <th>2</th>\n",
       "      <td>2002</td>\n",
       "      <td>136731</td>\n",
       "      <td>False</td>\n",
       "      <td>True</td>\n",
       "      <td>320.0</td>\n",
       "      <td>5.3</td>\n",
       "      <td>8.0</td>\n",
       "      <td>True</td>\n",
       "      <td>False</td>\n",
       "      <td>False</td>\n",
       "      <td>...</td>\n",
       "      <td>False</td>\n",
       "      <td>True</td>\n",
       "      <td>False</td>\n",
       "      <td>False</td>\n",
       "      <td>False</td>\n",
       "      <td>False</td>\n",
       "      <td>False</td>\n",
       "      <td>False</td>\n",
       "      <td>False</td>\n",
       "      <td>False</td>\n",
       "    </tr>\n",
       "    <tr>\n",
       "      <th>3</th>\n",
       "      <td>2017</td>\n",
       "      <td>19500</td>\n",
       "      <td>False</td>\n",
       "      <td>True</td>\n",
       "      <td>420.0</td>\n",
       "      <td>5.0</td>\n",
       "      <td>8.0</td>\n",
       "      <td>False</td>\n",
       "      <td>False</td>\n",
       "      <td>True</td>\n",
       "      <td>...</td>\n",
       "      <td>False</td>\n",
       "      <td>False</td>\n",
       "      <td>False</td>\n",
       "      <td>False</td>\n",
       "      <td>False</td>\n",
       "      <td>False</td>\n",
       "      <td>False</td>\n",
       "      <td>False</td>\n",
       "      <td>False</td>\n",
       "      <td>False</td>\n",
       "    </tr>\n",
       "    <tr>\n",
       "      <th>4</th>\n",
       "      <td>2021</td>\n",
       "      <td>7388</td>\n",
       "      <td>False</td>\n",
       "      <td>True</td>\n",
       "      <td>208.0</td>\n",
       "      <td>2.0</td>\n",
       "      <td>4.0</td>\n",
       "      <td>True</td>\n",
       "      <td>False</td>\n",
       "      <td>False</td>\n",
       "      <td>...</td>\n",
       "      <td>False</td>\n",
       "      <td>False</td>\n",
       "      <td>False</td>\n",
       "      <td>False</td>\n",
       "      <td>False</td>\n",
       "      <td>False</td>\n",
       "      <td>False</td>\n",
       "      <td>False</td>\n",
       "      <td>False</td>\n",
       "      <td>False</td>\n",
       "    </tr>\n",
       "  </tbody>\n",
       "</table>\n",
       "<p>5 rows × 57 columns</p>\n",
       "</div>"
      ],
      "text/plain": [
       "    model_year  milage  accident  clean_title  horse_power  tank_size  \\\n",
       "id                                                                      \n",
       "0         2007  213000     False         True        172.0        1.6   \n",
       "1         2002  143250      True         True        252.0        3.9   \n",
       "2         2002  136731     False         True        320.0        5.3   \n",
       "3         2017   19500     False         True        420.0        5.0   \n",
       "4         2021    7388     False         True        208.0        2.0   \n",
       "\n",
       "    num_cylinders  automatic  manual   dual  ...  int_col_Yellow_Orange  \\\n",
       "id                                           ...                          \n",
       "0             4.0       True   False  False  ...                  False   \n",
       "1             8.0       True   False  False  ...                  False   \n",
       "2             8.0       True   False  False  ...                  False   \n",
       "3             8.0      False   False   True  ...                  False   \n",
       "4             4.0       True   False  False  ...                  False   \n",
       "\n",
       "    ext_col_Blue  ext_col_Brown  ext_col_Green  ext_col_Other  \\\n",
       "id                                                              \n",
       "0          False          False          False          False   \n",
       "1          False          False          False          False   \n",
       "2           True          False          False          False   \n",
       "3          False          False          False          False   \n",
       "4          False          False          False          False   \n",
       "\n",
       "    ext_col_Purple_Pink  ext_col_Red  ext_col_Silver_Gray  ext_col_White  \\\n",
       "id                                                                         \n",
       "0                 False        False                False          False   \n",
       "1                 False        False                 True          False   \n",
       "2                 False        False                False          False   \n",
       "3                 False        False                False          False   \n",
       "4                 False        False                False          False   \n",
       "\n",
       "    ext_col_Yellow_Orange  \n",
       "id                         \n",
       "0                    True  \n",
       "1                   False  \n",
       "2                   False  \n",
       "3                   False  \n",
       "4                   False  \n",
       "\n",
       "[5 rows x 57 columns]"
      ]
     },
     "execution_count": 30,
     "metadata": {},
     "output_type": "execute_result"
    }
   ],
   "source": [
    "df_train.head()"
   ]
  },
  {
   "cell_type": "markdown",
   "metadata": {},
   "source": [
    "## Testing the changes"
   ]
  },
  {
   "cell_type": "markdown",
   "metadata": {},
   "source": [
    "We can see that the transformation of the color columns had almost no affect on the R2 score, meaning our previous thing did not do good."
   ]
  },
  {
   "cell_type": "code",
   "execution_count": 31,
   "metadata": {},
   "outputs": [
    {
     "name": "stdout",
     "output_type": "stream",
     "text": [
      "R2 Score before convering the color columns: 0.1064\n",
      "R2 Score after convering the color columns: 0.105\n"
     ]
    }
   ],
   "source": [
    "print(f'R2 Score before convering the color columns: {round(0.10637623834770804, 4)}')\n",
    "\n",
    "score_after_change = train_score_model(df_train, df_test)\n",
    "print(f'R2 Score after convering the color columns: {round(score_after_change, 4)}')"
   ]
  },
  {
   "cell_type": "markdown",
   "metadata": {},
   "source": [
    "### 1.1.2 Horse power "
   ]
  },
  {
   "cell_type": "code",
   "execution_count": 32,
   "metadata": {},
   "outputs": [],
   "source": [
    "df_train_transformed = pd.read_csv('../Part_1/data/transformed_train_data.csv',index_col='id')\n",
    "df_test_transformed = pd.read_csv('../Part_1/data/transformed_test_data.csv',index_col='id')"
   ]
  },
  {
   "cell_type": "markdown",
   "metadata": {},
   "source": [
    "Replacing the data for Not Supported, Nan and - in fuel type to random values and checking if it changes the r squared"
   ]
  },
  {
   "cell_type": "code",
   "execution_count": 33,
   "metadata": {},
   "outputs": [],
   "source": [
    "# Capture the original column order of df_train and df_test\n",
    "original_train_columns = df_train.columns\n",
    "original_test_columns = df_test.columns\n",
    "\n",
    "min_hp = df_train['horse_power'].min()\n",
    "max_hp = df_train['horse_power'].max()\n",
    "\n",
    "# Check the value of 'horse_power' in the original dataframe and update the one-hot encoded columns in df\n",
    "def replace_invalid_horse_power(row, org_row):\n",
    "    if pd.isna(org_row['horse_power']):\n",
    "        new_horse_power = np.random.randint(min_hp, max_hp)\n",
    "        row['horse_power'] = new_horse_power\n",
    "    return row\n",
    "\n",
    "# Apply the function to the 'horse_power' column in both train and test dataframes\n",
    "df_train = df_train.apply(lambda row: replace_invalid_horse_power(row, df_train_transformed.loc[row.name]), axis=1)\n",
    "df_test = df_test.apply(lambda row: replace_invalid_horse_power(row, df_test_transformed.loc[row.name]), axis=1)\n",
    "\n",
    "# Restore the original column order\n",
    "df_train = df_train[original_train_columns]\n",
    "df_test = df_test[original_test_columns]"
   ]
  },
  {
   "cell_type": "code",
   "execution_count": 34,
   "metadata": {},
   "outputs": [
    {
     "name": "stdout",
     "output_type": "stream",
     "text": [
      "R2 Score before replacing fuel type values with random values: 0.105\n",
      "R2 Score after replacing fuel type values with random value: 0.1047\n"
     ]
    }
   ],
   "source": [
    "print(f'R2 Score before replacing fuel type values with random values: {round(score_after_change, 4)}')\n",
    "\n",
    "score_after_change_ = train_score_model(df_train, df_test)\n",
    "print(f'R2 Score after replacing fuel type values with random value: {round(score_after_change_, 4)}')"
   ]
  },
  {
   "cell_type": "markdown",
   "metadata": {},
   "source": [
    "As we can see, we got about the same R^2 value even with random values imputation. Therefore, we can infer that we need to come up with another way to fill those values. Maybe using KNN."
   ]
  },
  {
   "cell_type": "code",
   "execution_count": 35,
   "metadata": {},
   "outputs": [],
   "source": [
    "from sklearn.impute import KNNImputer\n",
    "\n",
    "df_train_transformed_copy = df_train_transformed.copy()\n",
    "df_test_transformed_copy = df_test_transformed.copy()\n",
    "\n",
    "# Apply KNNImputer\n",
    "imputer = KNNImputer(n_neighbors=3)\n",
    "\n",
    "# Impute missing values in 'horse_power' for df_train_transformed_copy and df_test_transformed_copy\n",
    "df_train_transformed_copy['horse_power'] = imputer.fit_transform(df_train_transformed_copy[['horse_power']])\n",
    "df_test_transformed_copy['horse_power'] = imputer.transform(df_test_transformed_copy[['horse_power']])\n",
    " \n",
    "# Update the one-hot encoded columns in df_train using the imputed 'horse_power' values from org_df_train_copy\n",
    "def update_horse_power_encoding(row, imputed_horse_power):\n",
    "    row['horse_power'] = imputed_horse_power\n",
    "    return row\n",
    "\n",
    "# Apply the updates to df_train and df_test\n",
    "df_train = df_train.apply(lambda row: update_horse_power_encoding(row, df_train_transformed_copy.loc[row.name, 'horse_power']), axis=1)\n",
    "df_test = df_test.apply(lambda row: update_horse_power_encoding(row, df_test_transformed_copy.loc[row.name, 'horse_power']), axis=1)"
   ]
  },
  {
   "cell_type": "code",
   "execution_count": 36,
   "metadata": {},
   "outputs": [
    {
     "name": "stdout",
     "output_type": "stream",
     "text": [
      "R2 Score before replacing fuel type values with KNN-based values: 0.105\n",
      "R2 Score after replacing fuel type values with KNN-based value: 0.105\n"
     ]
    }
   ],
   "source": [
    "print(f'R2 Score before replacing fuel type values with KNN-based values: {round(score_after_change, 4)}')\n",
    "\n",
    "score_after_change = train_score_model(df_train, df_test)\n",
    "print(f'R2 Score after replacing fuel type values with KNN-based value: {round(score_after_change, 4)}')"
   ]
  },
  {
   "cell_type": "markdown",
   "metadata": {},
   "source": [
    "Didn't see a change, probably because there were only 3% of the data. let's do it on a different attribute (maybe horsepower)"
   ]
  },
  {
   "cell_type": "markdown",
   "metadata": {},
   "source": [
    "### 1.1.3 Brand"
   ]
  },
  {
   "cell_type": "markdown",
   "metadata": {},
   "source": [
    "In exercise 1 we decided to turn brands into One-Hot vectors. Since there are many brands, we decided to turn only the 24 most common brand names into binary features, lumping the rest as \"Other\"\n",
    "\n",
    "Since the mass of features this raises interfears with our understanding on the model error's, we would like to encode the brand names in a way that does not inflate the data's dimention.\n",
    "\n",
    "Ordinal encoding does not fir because there is no order to the brands. \n",
    "\n",
    "We decided to use Target Encoding for this cause."
   ]
  },
  {
   "cell_type": "code",
   "execution_count": 37,
   "metadata": {},
   "outputs": [
    {
     "data": {
      "text/plain": [
       "id\n",
       "0                  MINI\n",
       "1               Lincoln\n",
       "2             Chevrolet\n",
       "3               Genesis\n",
       "4         Mercedes-Benz\n",
       "              ...      \n",
       "150821             Audi\n",
       "150822            Honda\n",
       "150823         Cadillac\n",
       "150824          Ferrari\n",
       "150825             Ford\n",
       "Name: brand, Length: 150826, dtype: object"
      ]
     },
     "execution_count": 37,
     "metadata": {},
     "output_type": "execute_result"
    }
   ],
   "source": [
    "org_df_train.brand"
   ]
  },
  {
   "cell_type": "code",
   "execution_count": 38,
   "metadata": {},
   "outputs": [],
   "source": [
    "# Restoring the original cbrand column and removing the ones created by one-hot encoding\n",
    "\n",
    "cols_to_drop = [col for col in df_train.columns if col.startswith('brand')]\n",
    "df_train = df_train.drop(columns=cols_to_drop)\n",
    "cols_to_drop = [col for col in df_test.columns if col.startswith('brand')]\n",
    "df_test = df_test.drop(columns=cols_to_drop)\n",
    "df_train['brand'] = org_df_train['brand']\n",
    "df_test['brand'] = org_df_test['brand']\n"
   ]
  },
  {
   "cell_type": "code",
   "execution_count": 39,
   "metadata": {},
   "outputs": [],
   "source": [
    "import category_encoders as ce\n",
    "\n",
    "# Apply target encoding to the 'brands' feature\n",
    "target_encoder = ce.TargetEncoder(cols=['brand'])\n",
    "\n",
    "df_train['brand'] = target_encoder.fit_transform(df_train['brand'], df_train['price'])\n",
    "df_test['brand'] = target_encoder.transform(df_test['brand'])\n"
   ]
  },
  {
   "cell_type": "code",
   "execution_count": 40,
   "metadata": {},
   "outputs": [
    {
     "name": "stdout",
     "output_type": "stream",
     "text": [
      "R2 Score before target encoding the brands: 0.105\n",
      "R2 Score after target encoding the brands: 0.1115\n"
     ]
    }
   ],
   "source": [
    "print(f'R2 Score before target encoding the brands: {round(score_after_change, 4)}')\n",
    "\n",
    "score_after_change = train_score_model(df_train, df_test)\n",
    "print(f'R2 Score after target encoding the brands: {round(score_after_change, 4)}')"
   ]
  },
  {
   "cell_type": "markdown",
   "metadata": {},
   "source": [
    "We can see that the model's R2 score sligtly increased. Since we managed to deflate the number of features by that, it is a good change."
   ]
  },
  {
   "cell_type": "code",
   "execution_count": 41,
   "metadata": {},
   "outputs": [
    {
     "data": {
      "text/plain": [
       "id\n",
       "0    17474.865362\n",
       "1    30254.776847\n",
       "2    42160.109066\n",
       "3    54883.714834\n",
       "4    51422.492446\n",
       "5    41027.750919\n",
       "6    41027.750919\n",
       "7    42160.109066\n",
       "Name: brand, dtype: float64"
      ]
     },
     "execution_count": 41,
     "metadata": {},
     "output_type": "execute_result"
    }
   ],
   "source": [
    "# How the brand column looks like after target encoding\n",
    "\n",
    "df_train['brand'][0:8]"
   ]
  },
  {
   "cell_type": "markdown",
   "metadata": {},
   "source": [
    "## 1.2 Data and model changes"
   ]
  },
  {
   "cell_type": "markdown",
   "metadata": {},
   "source": [
    "Brand transformation - Arbel ✔\n",
    "\n",
    "remove outlliers && divide the price range into bins, check if there is an equal number of data entries for each price bin. maybe balance if not. Yael\n",
    "\n",
    "multiple collinearity show features correlation to one another [df.corr()] - decide on a course of action - Arbel\n",
    "\n",
    "rescale features which are not in a linear relationship with the price - Yael\n",
    "\n",
    "turn n values into n-1 One-Hot features: trasmission (baseline should be the most frequent value) - Arbel"
   ]
  },
  {
   "cell_type": "markdown",
   "metadata": {},
   "source": [
    "### 1.2.1 Filling Transmission missing values"
   ]
  },
  {
   "cell_type": "code",
   "execution_count": 42,
   "metadata": {},
   "outputs": [
    {
     "data": {
      "text/plain": [
       "443"
      ]
     },
     "execution_count": 42,
     "metadata": {},
     "output_type": "execute_result"
    }
   ],
   "source": [
    "no_transmission = df_train[(df_train['automatic'] == 0) & (df_train['manual'] == 0) & (df_train['dual'] == 0)]\n",
    "no_transmission.shape[0]"
   ]
  },
  {
   "cell_type": "code",
   "execution_count": 43,
   "metadata": {},
   "outputs": [
    {
     "name": "stdout",
     "output_type": "stream",
     "text": [
      "Index: 458, Transmission: Transmission Overdrive Switch\n",
      "Index: 931, Transmission: F\n",
      "Index: 1539, Transmission: –\n",
      "Index: 2679, Transmission: F\n",
      "Index: 3037, Transmission: Transmission Overdrive Switch\n",
      "Index: 3038, Transmission: 2\n",
      "Index: 3293, Transmission: 7-Speed\n",
      "Index: 3585, Transmission: Variable\n",
      "Index: 3630, Transmission: Transmission Overdrive Switch\n",
      "Index: 4520, Transmission: Single-Speed Fixed Gear\n",
      "Index: 5642, Transmission: 2\n"
     ]
    }
   ],
   "source": [
    "for idx in no_transmission.index[:3]:\n",
    "    print(f'Index: {idx}, Transmission: {org_df_train[\"transmission\"][idx]}')\n",
    "for idx in no_transmission.index[7:15]:\n",
    "    print(f'Index: {idx}, Transmission: {org_df_train[\"transmission\"][idx]}')"
   ]
  },
  {
   "cell_type": "markdown",
   "metadata": {},
   "source": [
    "Our domain knowledge suggests that there cannot be a car with a trasmission type which is not 'manual', 'automatic' or 'dual', so regardless of whether the transmission attribute was mislabeled or missing, we will fill it with a value.\n",
    "\n",
    "We do it like before, using the KNN imputer."
   ]
  },
  {
   "cell_type": "code",
   "execution_count": 44,
   "metadata": {},
   "outputs": [
    {
     "data": {
      "text/plain": [
       "<Axes: >"
      ]
     },
     "execution_count": 44,
     "metadata": {},
     "output_type": "execute_result"
    },
    {
     "data": {
      "image/png": "[encoded data removed]",
      "text/plain": [
       "<Figure size 640x480 with 1 Axes>"
      ]
     },
     "metadata": {},
     "output_type": "display_data"
    }
   ],
   "source": [
    "no_transmission['price'].hist()"
   ]
  },
  {
   "cell_type": "code",
   "execution_count": 45,
   "metadata": {},
   "outputs": [
    {
     "data": {
      "image/png": "[encoded data removed]",
      "text/plain": [
       "<Figure size 1500x500 with 1 Axes>"
      ]
     },
     "metadata": {},
     "output_type": "display_data"
    }
   ],
   "source": [
    "plt.figure(figsize=(15, 5))\n",
    "sns.histplot(df_train[df_train['manual'] == 1]['price'], color='blue', label='Manual', alpha=0.5)\n",
    "sns.histplot(df_train[df_train['automatic'] == 1]['price'], color='orange', label='Automatic', alpha=0.5)\n",
    "sns.histplot(df_train[df_train['dual'] == 1]['price'], color='green', label='Dual', alpha=0.5)\n",
    "plt.legend()\n",
    "plt.title('Price Distribution by Transmission Type')\n",
    "plt.xlabel('Price')\n",
    "plt.ylabel('Frequency')\n",
    "plt.show()"
   ]
  },
  {
   "cell_type": "code",
   "execution_count": 46,
   "metadata": {},
   "outputs": [],
   "source": [
    "# Automatic transmission is by far the most common type in the dataset, so we will set the 'no_transmission' rows to 'automatic'\n",
    "\n",
    "df_train.loc[(df_train['automatic'] == 0) & (df_train['manual'] == 0) & (df_train['dual'] == 0), 'automatic'] = True\n",
    "df_test.loc[(df_test['automatic'] == 0) & (df_test['manual'] == 0) & (df_test['dual'] == 0), 'automatic'] = True"
   ]
  },
  {
   "cell_type": "code",
   "execution_count": 47,
   "metadata": {},
   "outputs": [
    {
     "data": {
      "text/plain": [
       "0"
      ]
     },
     "execution_count": 47,
     "metadata": {},
     "output_type": "execute_result"
    }
   ],
   "source": [
    "no_transmission_after_fill = df_train[(df_train['automatic'] == 0) & (df_train['manual'] == 0) & (df_train['dual'] == 0)]\n",
    "no_transmission_after_fill.shape[0]"
   ]
  },
  {
   "cell_type": "markdown",
   "metadata": {},
   "source": [
    "### 1.2.2 One-Hot n-1 columns transformation\n",
    "\n",
    "We learned in classs that it is mathematically adventageous to encode an attribute of n unique values with n-1 columns.\n",
    "\n",
    "This results with a base category that we assume a sample has, if it is marked 'False' for all other one-hot attributes. This base category should be the most frequent value of the original attribute, in our case we saw that it is 'Automatic'."
   ]
  },
  {
   "cell_type": "code",
   "execution_count": 48,
   "metadata": {},
   "outputs": [],
   "source": [
    "df_train = df_train.drop(columns=['automatic'])\n",
    "df_test = df_test.drop(columns=['automatic'])"
   ]
  },
  {
   "cell_type": "code",
   "execution_count": 49,
   "metadata": {},
   "outputs": [
    {
     "name": "stdout",
     "output_type": "stream",
     "text": [
      "R2 Score before filling transmission nulls and dropiing the most frequent One-Hot attribute: 0.1115\n",
      "R2 Score after filling transmission nulls and dropiing the most frequent One-Hot attribute: 0.1114\n"
     ]
    }
   ],
   "source": [
    "print(f'R2 Score before filling transmission nulls and dropiing the most frequent One-Hot attribute: {round(score_after_change, 4)}')\n",
    "\n",
    "score_after_change = train_score_model(df_train, df_test)\n",
    "print(f'R2 Score after filling transmission nulls and dropiing the most frequent One-Hot attribute: {round(score_after_change, 4)}')"
   ]
  },
  {
   "cell_type": "markdown",
   "metadata": {},
   "source": [
    "We can see the effect was not significant, probably due to the fact that hte number of nulls was very low (443/15000), and that this transformation was not that meaningful to start with."
   ]
  },
  {
   "cell_type": "markdown",
   "metadata": {},
   "source": [
    "### 1.2.3 Checking for linearity and collinearity of the features"
   ]
  },
  {
   "cell_type": "code",
   "execution_count": 51,
   "metadata": {},
   "outputs": [
    {
     "data": {
      "text/plain": [
       "<Axes: >"
      ]
     },
     "execution_count": 51,
     "metadata": {},
     "output_type": "execute_result"
    },
    {
     "data": {
      "image/png": "[encoded data removed]",
      "text/plain": [
       "<Figure size 640x480 with 2 Axes>"
      ]
     },
     "metadata": {},
     "output_type": "display_data"
    }
   ],
   "source": [
    "df_train_corr = df_train.corr()\n",
    "\n",
    "sns.heatmap(df_train_corr, annot=False, fmt='.2f', cmap=\"YlGnBu\", cbar=True, linewidths=0.5)"
   ]
  },
  {
   "cell_type": "code",
   "execution_count": 55,
   "metadata": {},
   "outputs": [
    {
     "data": {
      "text/html": [
       "<div>\n",
       "<style scoped>\n",
       "    .dataframe tbody tr th:only-of-type {\n",
       "        vertical-align: middle;\n",
       "    }\n",
       "\n",
       "    .dataframe tbody tr th {\n",
       "        vertical-align: top;\n",
       "    }\n",
       "\n",
       "    .dataframe thead th {\n",
       "        text-align: right;\n",
       "    }\n",
       "</style>\n",
       "<table border=\"1\" class=\"dataframe\">\n",
       "  <thead>\n",
       "    <tr style=\"text-align: right;\">\n",
       "      <th></th>\n",
       "      <th>col1</th>\n",
       "      <th>col2</th>\n",
       "      <th>corr</th>\n",
       "    </tr>\n",
       "  </thead>\n",
       "  <tbody>\n",
       "    <tr>\n",
       "      <th>6</th>\n",
       "      <td>tank_size</td>\n",
       "      <td>num_cylinders</td>\n",
       "      <td>0.815889</td>\n",
       "    </tr>\n",
       "    <tr>\n",
       "      <th>7</th>\n",
       "      <td>num_cylinders</td>\n",
       "      <td>tank_size</td>\n",
       "      <td>0.815889</td>\n",
       "    </tr>\n",
       "  </tbody>\n",
       "</table>\n",
       "</div>"
      ],
      "text/plain": [
       "            col1           col2      corr\n",
       "6      tank_size  num_cylinders  0.815889\n",
       "7  num_cylinders      tank_size  0.815889"
      ]
     },
     "execution_count": 55,
     "metadata": {},
     "output_type": "execute_result"
    }
   ],
   "source": [
    "high_corr = df_train_corr[df_train_corr>0.8]\n",
    "high_corr.stack().sort_values(ascending=False)\n",
    "hc = high_corr.stack().reset_index()\n",
    "hc.columns=[\"col1\",\"col2\",\"corr\"]\n",
    "hc[hc.col1!=hc.col2]"
   ]
  },
  {
   "cell_type": "markdown",
   "metadata": {},
   "source": [
    "We can see a linear correlation between the tank size and the number of cylinders, but how about a multiple linear correlation?"
   ]
  },
  {
   "cell_type": "code",
   "execution_count": 70,
   "metadata": {},
   "outputs": [
    {
     "data": {
      "text/html": [
       "<div>\n",
       "<style scoped>\n",
       "    .dataframe tbody tr th:only-of-type {\n",
       "        vertical-align: middle;\n",
       "    }\n",
       "\n",
       "    .dataframe tbody tr th {\n",
       "        vertical-align: top;\n",
       "    }\n",
       "\n",
       "    .dataframe thead th {\n",
       "        text-align: right;\n",
       "    }\n",
       "</style>\n",
       "<table border=\"1\" class=\"dataframe\">\n",
       "  <thead>\n",
       "    <tr style=\"text-align: right;\">\n",
       "      <th></th>\n",
       "      <th>Feature</th>\n",
       "      <th>VIF</th>\n",
       "    </tr>\n",
       "  </thead>\n",
       "  <tbody>\n",
       "    <tr>\n",
       "      <th>0</th>\n",
       "      <td>model_year</td>\n",
       "      <td>91.131025</td>\n",
       "    </tr>\n",
       "    <tr>\n",
       "      <th>6</th>\n",
       "      <td>num_cylinders</td>\n",
       "      <td>84.584780</td>\n",
       "    </tr>\n",
       "    <tr>\n",
       "      <th>10</th>\n",
       "      <td>fuel_type_Gasoline</td>\n",
       "      <td>47.660847</td>\n",
       "    </tr>\n",
       "    <tr>\n",
       "      <th>5</th>\n",
       "      <td>tank_size</td>\n",
       "      <td>32.069792</td>\n",
       "    </tr>\n",
       "    <tr>\n",
       "      <th>4</th>\n",
       "      <td>horse_power</td>\n",
       "      <td>29.474653</td>\n",
       "    </tr>\n",
       "    <tr>\n",
       "      <th>3</th>\n",
       "      <td>clean_title</td>\n",
       "      <td>10.014129</td>\n",
       "    </tr>\n",
       "  </tbody>\n",
       "</table>\n",
       "</div>"
      ],
      "text/plain": [
       "               Feature        VIF\n",
       "0           model_year  91.131025\n",
       "6        num_cylinders  84.584780\n",
       "10  fuel_type_Gasoline  47.660847\n",
       "5            tank_size  32.069792\n",
       "4          horse_power  29.474653\n",
       "3          clean_title  10.014129"
      ]
     },
     "execution_count": 70,
     "metadata": {},
     "output_type": "execute_result"
    }
   ],
   "source": [
    "# Calculating Variance Inflation Factors (VIF) to check for multicollinearity\n",
    "\n",
    "import numpy as np\n",
    "from statsmodels.stats.outliers_influence import variance_inflation_factor\n",
    "\n",
    "def calculate_vif(df, features):\n",
    "    # Convert boolean columns to integers\n",
    "    df_copy = df.astype({col: 'int64' for col in df.select_dtypes(include='bool').columns})\n",
    "    \n",
    "    vif = pd.DataFrame()\n",
    "    vif[\"Feature\"] = features\n",
    "    vif[\"VIF\"] = [variance_inflation_factor(df_copy.values, i) for i in range(len(features))]\n",
    "    return vif\n",
    "\n",
    "# Define features excluding the target variable 'price'\n",
    "features = df_train.columns.drop('price')\n",
    "\n",
    "# Calculate VIF\n",
    "vif = calculate_vif(df_train, features)\n",
    "vif = vif.sort_values(by='VIF', ascending=False)\n",
    "vif[vif['VIF'] > 10]\n"
   ]
  }
 ],
 "metadata": {
  "kernelspec": {
   "display_name": "Python 3",
   "language": "python",
   "name": "python3"
  },
  "language_info": {
   "codemirror_mode": {
    "name": "ipython",
    "version": 3
   },
   "file_extension": ".py",
   "mimetype": "text/x-python",
   "name": "python",
   "nbconvert_exporter": "python",
   "pygments_lexer": "ipython3",
   "version": "3.12.8"
  }
 },
 "nbformat": 4,
 "nbformat_minor": 2
}
