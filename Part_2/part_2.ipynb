{
 "cells": [
  {
   "cell_type": "markdown",
   "metadata": {},
   "source": [
    "# 0. Imports"
   ]
  },
  {
   "cell_type": "markdown",
   "metadata": {},
   "source": [
    "## 0.1 Libraries"
   ]
  },
  {
   "cell_type": "code",
   "execution_count": 55,
   "metadata": {},
   "outputs": [],
   "source": [
    "import numpy as np\n",
    "import pandas as pd \n",
    "\n",
    "import matplotlib.pyplot as plt\n",
    "import seaborn as sns\n",
    "\n",
    "from scipy.stats import ks_2samp\n",
    "\n",
    "from sklearn.linear_model import LinearRegression\n",
    "from sklearn.metrics import r2_score,mean_squared_error, mean_absolute_percentage_error,mean_absolute_error\n",
    "from sklearn.preprocessing import OrdinalEncoder\n",
    "\n",
    "import shap"
   ]
  },
  {
   "cell_type": "markdown",
   "metadata": {},
   "source": [
    "## 0.2. Model and data from part 1"
   ]
  },
  {
   "cell_type": "code",
   "execution_count": 33,
   "metadata": {},
   "outputs": [
    {
     "ename": "",
     "evalue": "",
     "output_type": "error",
     "traceback": [
      "\u001b[1;31mnotebook controller is DISPOSED. \n",
      "\u001b[1;31mView Jupyter <a href='command:jupyter.viewOutput'>log</a> for further details."
     ]
    }
   ],
   "source": [
    "from pickle import load\n",
    "with open(\"../Part_1/part_1_model.pkl\", \"rb\") as f:\n",
    "    linear_reg = load(f)\n",
    "\n",
    "df_train = pd.read_csv('../Part_1/data/processed_train_data.csv',index_col='id')\n",
    "df_test = pd.read_csv('../Part_1/data/processed_test_data.csv',index_col='id')"
   ]
  },
  {
   "cell_type": "code",
   "execution_count": 34,
   "metadata": {},
   "outputs": [
    {
     "data": {
      "text/html": [
       "<div>\n",
       "<style scoped>\n",
       "    .dataframe tbody tr th:only-of-type {\n",
       "        vertical-align: middle;\n",
       "    }\n",
       "\n",
       "    .dataframe tbody tr th {\n",
       "        vertical-align: top;\n",
       "    }\n",
       "\n",
       "    .dataframe thead th {\n",
       "        text-align: right;\n",
       "    }\n",
       "</style>\n",
       "<table border=\"1\" class=\"dataframe\">\n",
       "  <thead>\n",
       "    <tr style=\"text-align: right;\">\n",
       "      <th></th>\n",
       "      <th>model_year</th>\n",
       "      <th>milage</th>\n",
       "      <th>accident</th>\n",
       "      <th>clean_title</th>\n",
       "      <th>horse_power</th>\n",
       "      <th>tank_size</th>\n",
       "      <th>num_cylinders</th>\n",
       "      <th>automatic</th>\n",
       "      <th>manual</th>\n",
       "      <th>dual</th>\n",
       "      <th>...</th>\n",
       "      <th>int_col_Brown</th>\n",
       "      <th>int_col_Ebony</th>\n",
       "      <th>int_col_Global Black</th>\n",
       "      <th>int_col_Gray</th>\n",
       "      <th>int_col_Jet Black</th>\n",
       "      <th>int_col_Orange</th>\n",
       "      <th>int_col_Red</th>\n",
       "      <th>int_col_White</th>\n",
       "      <th>int_col_other</th>\n",
       "      <th>price</th>\n",
       "    </tr>\n",
       "    <tr>\n",
       "      <th>id</th>\n",
       "      <th></th>\n",
       "      <th></th>\n",
       "      <th></th>\n",
       "      <th></th>\n",
       "      <th></th>\n",
       "      <th></th>\n",
       "      <th></th>\n",
       "      <th></th>\n",
       "      <th></th>\n",
       "      <th></th>\n",
       "      <th></th>\n",
       "      <th></th>\n",
       "      <th></th>\n",
       "      <th></th>\n",
       "      <th></th>\n",
       "      <th></th>\n",
       "      <th></th>\n",
       "      <th></th>\n",
       "      <th></th>\n",
       "      <th></th>\n",
       "      <th></th>\n",
       "    </tr>\n",
       "  </thead>\n",
       "  <tbody>\n",
       "    <tr>\n",
       "      <th>0</th>\n",
       "      <td>2007</td>\n",
       "      <td>213000</td>\n",
       "      <td>False</td>\n",
       "      <td>True</td>\n",
       "      <td>172.0</td>\n",
       "      <td>1.6</td>\n",
       "      <td>4.0</td>\n",
       "      <td>True</td>\n",
       "      <td>False</td>\n",
       "      <td>False</td>\n",
       "      <td>...</td>\n",
       "      <td>False</td>\n",
       "      <td>False</td>\n",
       "      <td>False</td>\n",
       "      <td>True</td>\n",
       "      <td>False</td>\n",
       "      <td>False</td>\n",
       "      <td>False</td>\n",
       "      <td>False</td>\n",
       "      <td>False</td>\n",
       "      <td>4200</td>\n",
       "    </tr>\n",
       "    <tr>\n",
       "      <th>1</th>\n",
       "      <td>2002</td>\n",
       "      <td>143250</td>\n",
       "      <td>True</td>\n",
       "      <td>True</td>\n",
       "      <td>252.0</td>\n",
       "      <td>3.9</td>\n",
       "      <td>8.0</td>\n",
       "      <td>True</td>\n",
       "      <td>False</td>\n",
       "      <td>False</td>\n",
       "      <td>...</td>\n",
       "      <td>False</td>\n",
       "      <td>False</td>\n",
       "      <td>False</td>\n",
       "      <td>False</td>\n",
       "      <td>False</td>\n",
       "      <td>False</td>\n",
       "      <td>False</td>\n",
       "      <td>False</td>\n",
       "      <td>False</td>\n",
       "      <td>4999</td>\n",
       "    </tr>\n",
       "    <tr>\n",
       "      <th>2</th>\n",
       "      <td>2002</td>\n",
       "      <td>136731</td>\n",
       "      <td>False</td>\n",
       "      <td>True</td>\n",
       "      <td>320.0</td>\n",
       "      <td>5.3</td>\n",
       "      <td>8.0</td>\n",
       "      <td>True</td>\n",
       "      <td>False</td>\n",
       "      <td>False</td>\n",
       "      <td>...</td>\n",
       "      <td>False</td>\n",
       "      <td>False</td>\n",
       "      <td>False</td>\n",
       "      <td>True</td>\n",
       "      <td>False</td>\n",
       "      <td>False</td>\n",
       "      <td>False</td>\n",
       "      <td>False</td>\n",
       "      <td>False</td>\n",
       "      <td>13900</td>\n",
       "    </tr>\n",
       "    <tr>\n",
       "      <th>3</th>\n",
       "      <td>2017</td>\n",
       "      <td>19500</td>\n",
       "      <td>False</td>\n",
       "      <td>True</td>\n",
       "      <td>420.0</td>\n",
       "      <td>5.0</td>\n",
       "      <td>8.0</td>\n",
       "      <td>False</td>\n",
       "      <td>False</td>\n",
       "      <td>True</td>\n",
       "      <td>...</td>\n",
       "      <td>False</td>\n",
       "      <td>False</td>\n",
       "      <td>False</td>\n",
       "      <td>False</td>\n",
       "      <td>False</td>\n",
       "      <td>False</td>\n",
       "      <td>False</td>\n",
       "      <td>False</td>\n",
       "      <td>False</td>\n",
       "      <td>45000</td>\n",
       "    </tr>\n",
       "    <tr>\n",
       "      <th>4</th>\n",
       "      <td>2021</td>\n",
       "      <td>7388</td>\n",
       "      <td>False</td>\n",
       "      <td>True</td>\n",
       "      <td>208.0</td>\n",
       "      <td>2.0</td>\n",
       "      <td>4.0</td>\n",
       "      <td>True</td>\n",
       "      <td>False</td>\n",
       "      <td>False</td>\n",
       "      <td>...</td>\n",
       "      <td>False</td>\n",
       "      <td>False</td>\n",
       "      <td>False</td>\n",
       "      <td>False</td>\n",
       "      <td>False</td>\n",
       "      <td>False</td>\n",
       "      <td>False</td>\n",
       "      <td>False</td>\n",
       "      <td>False</td>\n",
       "      <td>97500</td>\n",
       "    </tr>\n",
       "  </tbody>\n",
       "</table>\n",
       "<p>5 rows × 62 columns</p>\n",
       "</div>"
      ],
      "text/plain": [
       "    model_year  milage  accident  clean_title  horse_power  tank_size  \\\n",
       "id                                                                      \n",
       "0         2007  213000     False         True        172.0        1.6   \n",
       "1         2002  143250      True         True        252.0        3.9   \n",
       "2         2002  136731     False         True        320.0        5.3   \n",
       "3         2017   19500     False         True        420.0        5.0   \n",
       "4         2021    7388     False         True        208.0        2.0   \n",
       "\n",
       "    num_cylinders  automatic  manual   dual  ...  int_col_Brown  \\\n",
       "id                                           ...                  \n",
       "0             4.0       True   False  False  ...          False   \n",
       "1             8.0       True   False  False  ...          False   \n",
       "2             8.0       True   False  False  ...          False   \n",
       "3             8.0      False   False   True  ...          False   \n",
       "4             4.0       True   False  False  ...          False   \n",
       "\n",
       "    int_col_Ebony  int_col_Global Black  int_col_Gray  int_col_Jet Black  \\\n",
       "id                                                                         \n",
       "0           False                 False          True              False   \n",
       "1           False                 False         False              False   \n",
       "2           False                 False          True              False   \n",
       "3           False                 False         False              False   \n",
       "4           False                 False         False              False   \n",
       "\n",
       "    int_col_Orange  int_col_Red  int_col_White  int_col_other  price  \n",
       "id                                                                    \n",
       "0            False        False          False          False   4200  \n",
       "1            False        False          False          False   4999  \n",
       "2            False        False          False          False  13900  \n",
       "3            False        False          False          False  45000  \n",
       "4            False        False          False          False  97500  \n",
       "\n",
       "[5 rows x 62 columns]"
      ]
     },
     "execution_count": 34,
     "metadata": {},
     "output_type": "execute_result"
    },
    {
     "ename": "",
     "evalue": "",
     "output_type": "error",
     "traceback": [
      "\u001b[1;31mnotebook controller is DISPOSED. \n",
      "\u001b[1;31mView Jupyter <a href='command:jupyter.viewOutput'>log</a> for further details."
     ]
    }
   ],
   "source": [
    "df_train.head()"
   ]
  },
  {
   "cell_type": "code",
   "execution_count": 35,
   "metadata": {},
   "outputs": [
    {
     "data": {
      "text/html": [
       "<div>\n",
       "<style scoped>\n",
       "    .dataframe tbody tr th:only-of-type {\n",
       "        vertical-align: middle;\n",
       "    }\n",
       "\n",
       "    .dataframe tbody tr th {\n",
       "        vertical-align: top;\n",
       "    }\n",
       "\n",
       "    .dataframe thead th {\n",
       "        text-align: right;\n",
       "    }\n",
       "</style>\n",
       "<table border=\"1\" class=\"dataframe\">\n",
       "  <thead>\n",
       "    <tr style=\"text-align: right;\">\n",
       "      <th></th>\n",
       "      <th>model_year</th>\n",
       "      <th>milage</th>\n",
       "      <th>accident</th>\n",
       "      <th>clean_title</th>\n",
       "      <th>horse_power</th>\n",
       "      <th>tank_size</th>\n",
       "      <th>num_cylinders</th>\n",
       "      <th>automatic</th>\n",
       "      <th>manual</th>\n",
       "      <th>dual</th>\n",
       "      <th>...</th>\n",
       "      <th>int_col_Brown</th>\n",
       "      <th>int_col_Ebony</th>\n",
       "      <th>int_col_Global Black</th>\n",
       "      <th>int_col_Gray</th>\n",
       "      <th>int_col_Jet Black</th>\n",
       "      <th>int_col_Orange</th>\n",
       "      <th>int_col_Red</th>\n",
       "      <th>int_col_White</th>\n",
       "      <th>int_col_other</th>\n",
       "      <th>price</th>\n",
       "    </tr>\n",
       "    <tr>\n",
       "      <th>id</th>\n",
       "      <th></th>\n",
       "      <th></th>\n",
       "      <th></th>\n",
       "      <th></th>\n",
       "      <th></th>\n",
       "      <th></th>\n",
       "      <th></th>\n",
       "      <th></th>\n",
       "      <th></th>\n",
       "      <th></th>\n",
       "      <th></th>\n",
       "      <th></th>\n",
       "      <th></th>\n",
       "      <th></th>\n",
       "      <th></th>\n",
       "      <th></th>\n",
       "      <th></th>\n",
       "      <th></th>\n",
       "      <th></th>\n",
       "      <th></th>\n",
       "      <th></th>\n",
       "    </tr>\n",
       "  </thead>\n",
       "  <tbody>\n",
       "    <tr>\n",
       "      <th>37707</th>\n",
       "      <td>2003</td>\n",
       "      <td>46200</td>\n",
       "      <td>False</td>\n",
       "      <td>True</td>\n",
       "      <td>315.0</td>\n",
       "      <td>3.6</td>\n",
       "      <td>6.0</td>\n",
       "      <td>False</td>\n",
       "      <td>True</td>\n",
       "      <td>False</td>\n",
       "      <td>...</td>\n",
       "      <td>False</td>\n",
       "      <td>False</td>\n",
       "      <td>False</td>\n",
       "      <td>False</td>\n",
       "      <td>False</td>\n",
       "      <td>False</td>\n",
       "      <td>False</td>\n",
       "      <td>False</td>\n",
       "      <td>False</td>\n",
       "      <td>28750</td>\n",
       "    </tr>\n",
       "    <tr>\n",
       "      <th>37708</th>\n",
       "      <td>2010</td>\n",
       "      <td>115000</td>\n",
       "      <td>False</td>\n",
       "      <td>True</td>\n",
       "      <td>148.0</td>\n",
       "      <td>2.0</td>\n",
       "      <td>4.0</td>\n",
       "      <td>False</td>\n",
       "      <td>True</td>\n",
       "      <td>False</td>\n",
       "      <td>...</td>\n",
       "      <td>False</td>\n",
       "      <td>False</td>\n",
       "      <td>False</td>\n",
       "      <td>False</td>\n",
       "      <td>False</td>\n",
       "      <td>False</td>\n",
       "      <td>False</td>\n",
       "      <td>False</td>\n",
       "      <td>False</td>\n",
       "      <td>8950</td>\n",
       "    </tr>\n",
       "    <tr>\n",
       "      <th>37709</th>\n",
       "      <td>2021</td>\n",
       "      <td>39700</td>\n",
       "      <td>False</td>\n",
       "      <td>True</td>\n",
       "      <td>365.0</td>\n",
       "      <td>3.3</td>\n",
       "      <td>6.0</td>\n",
       "      <td>True</td>\n",
       "      <td>False</td>\n",
       "      <td>False</td>\n",
       "      <td>...</td>\n",
       "      <td>False</td>\n",
       "      <td>False</td>\n",
       "      <td>False</td>\n",
       "      <td>False</td>\n",
       "      <td>False</td>\n",
       "      <td>False</td>\n",
       "      <td>False</td>\n",
       "      <td>False</td>\n",
       "      <td>False</td>\n",
       "      <td>44400</td>\n",
       "    </tr>\n",
       "    <tr>\n",
       "      <th>37710</th>\n",
       "      <td>2022</td>\n",
       "      <td>22185</td>\n",
       "      <td>False</td>\n",
       "      <td>False</td>\n",
       "      <td>343.0</td>\n",
       "      <td>5.7</td>\n",
       "      <td>6.0</td>\n",
       "      <td>True</td>\n",
       "      <td>False</td>\n",
       "      <td>False</td>\n",
       "      <td>...</td>\n",
       "      <td>False</td>\n",
       "      <td>False</td>\n",
       "      <td>False</td>\n",
       "      <td>False</td>\n",
       "      <td>False</td>\n",
       "      <td>False</td>\n",
       "      <td>False</td>\n",
       "      <td>False</td>\n",
       "      <td>False</td>\n",
       "      <td>46599</td>\n",
       "    </tr>\n",
       "    <tr>\n",
       "      <th>37711</th>\n",
       "      <td>2011</td>\n",
       "      <td>152000</td>\n",
       "      <td>False</td>\n",
       "      <td>False</td>\n",
       "      <td>265.0</td>\n",
       "      <td>3.5</td>\n",
       "      <td>6.0</td>\n",
       "      <td>True</td>\n",
       "      <td>False</td>\n",
       "      <td>False</td>\n",
       "      <td>...</td>\n",
       "      <td>False</td>\n",
       "      <td>False</td>\n",
       "      <td>False</td>\n",
       "      <td>False</td>\n",
       "      <td>False</td>\n",
       "      <td>False</td>\n",
       "      <td>False</td>\n",
       "      <td>False</td>\n",
       "      <td>False</td>\n",
       "      <td>50500</td>\n",
       "    </tr>\n",
       "  </tbody>\n",
       "</table>\n",
       "<p>5 rows × 62 columns</p>\n",
       "</div>"
      ],
      "text/plain": [
       "       model_year  milage  accident  clean_title  horse_power  tank_size  \\\n",
       "id                                                                         \n",
       "37707        2003   46200     False         True        315.0        3.6   \n",
       "37708        2010  115000     False         True        148.0        2.0   \n",
       "37709        2021   39700     False         True        365.0        3.3   \n",
       "37710        2022   22185     False        False        343.0        5.7   \n",
       "37711        2011  152000     False        False        265.0        3.5   \n",
       "\n",
       "       num_cylinders  automatic  manual   dual  ...  int_col_Brown  \\\n",
       "id                                              ...                  \n",
       "37707            6.0      False    True  False  ...          False   \n",
       "37708            4.0      False    True  False  ...          False   \n",
       "37709            6.0       True   False  False  ...          False   \n",
       "37710            6.0       True   False  False  ...          False   \n",
       "37711            6.0       True   False  False  ...          False   \n",
       "\n",
       "       int_col_Ebony  int_col_Global Black  int_col_Gray  int_col_Jet Black  \\\n",
       "id                                                                            \n",
       "37707          False                 False         False              False   \n",
       "37708          False                 False         False              False   \n",
       "37709          False                 False         False              False   \n",
       "37710          False                 False         False              False   \n",
       "37711          False                 False         False              False   \n",
       "\n",
       "       int_col_Orange  int_col_Red  int_col_White  int_col_other  price  \n",
       "id                                                                       \n",
       "37707           False        False          False          False  28750  \n",
       "37708           False        False          False          False   8950  \n",
       "37709           False        False          False          False  44400  \n",
       "37710           False        False          False          False  46599  \n",
       "37711           False        False          False          False  50500  \n",
       "\n",
       "[5 rows x 62 columns]"
      ]
     },
     "execution_count": 35,
     "metadata": {},
     "output_type": "execute_result"
    },
    {
     "ename": "",
     "evalue": "",
     "output_type": "error",
     "traceback": [
      "\u001b[1;31mnotebook controller is DISPOSED. \n",
      "\u001b[1;31mView Jupyter <a href='command:jupyter.viewOutput'>log</a> for further details."
     ]
    }
   ],
   "source": [
    "df_test.head()"
   ]
  },
  {
   "cell_type": "code",
   "execution_count": 36,
   "metadata": {},
   "outputs": [
    {
     "ename": "",
     "evalue": "",
     "output_type": "error",
     "traceback": [
      "\u001b[1;31mnotebook controller is DISPOSED. \n",
      "\u001b[1;31mView Jupyter <a href='command:jupyter.viewOutput'>log</a> for further details."
     ]
    }
   ],
   "source": [
    "def train_score_model (df_train, df_test):\n",
    "\tX_train = df_train.drop(columns='price')\n",
    "\ty_train = df_train['price']\n",
    "\tX_test = df_test.drop(columns='price')\n",
    "\ty_test = df_test['price']\n",
    "\t\n",
    "\tlinear_reg = LinearRegression()\n",
    "\tlinear_reg.fit(X_train, y_train)\n",
    "\ty_pred = linear_reg.predict(X_test)\n",
    "\t\n",
    "\tr2 = r2_score(y_test, y_pred)\n",
    "\t\n",
    "\treturn r2"
   ]
  },
  {
   "cell_type": "markdown",
   "metadata": {},
   "source": [
    "# 1. Error Analysis"
   ]
  },
  {
   "cell_type": "markdown",
   "metadata": {},
   "source": [
    "First, we wanted to confirm that the errors of our model do not result from a prr distribution od the data in the train and test sets.\n",
    "\n",
    "The train set data is painted colored blue and the test set data is colored orange.\n",
    "\n",
    "We can see that the distributions are quite similar, most of the graphs have a red shade - because the train and test mostly overlap.\n",
    "\n",
    "In additon, we added a Two-Sample KS test for a quantifiable measure."
   ]
  },
  {
   "cell_type": "code",
   "execution_count": 37,
   "metadata": {},
   "outputs": [
    {
     "data": {
      "image/png": "[encoded data removed]",
      "text/plain": [
       "<Figure size 1500x1500 with 6 Axes>"
      ]
     },
     "metadata": {},
     "output_type": "display_data"
    },
    {
     "ename": "",
     "evalue": "",
     "output_type": "error",
     "traceback": [
      "\u001b[1;31mnotebook controller is DISPOSED. \n",
      "\u001b[1;31mView Jupyter <a href='command:jupyter.viewOutput'>log</a> for further details."
     ]
    }
   ],
   "source": [
    "columns_to_hist = ['model_year', 'milage', 'horse_power', 'tank_size', 'num_cylinders', 'price']\n",
    "\n",
    "fig, axes = plt.subplots(6, 1, figsize=(15, 15))\n",
    "for i, column in enumerate(columns_to_hist):\n",
    "    sns.histplot(df_train[column], ax=axes[i], color='blue', label='Train', alpha=0.5)\n",
    "    sns.histplot(df_test[column], ax=axes[i], color='orange', label='Test', alpha=0.5)\n",
    "    res,pval = ks_2samp(df_train[column],df_test[column])\n",
    "    axes[i].set_title(f'Column: {column}, KS-Test: {round(res, 3)} - P-Value: {round(pval, 3)}')\n",
    "    axes[i].legend()\n",
    "fig.suptitle('Train and Test Distributions\\n', fontsize=20)\n",
    "plt.tight_layout()\n",
    "plt.show()"
   ]
  },
  {
   "cell_type": "markdown",
   "metadata": {},
   "source": [
    "## 1.1 Explainability changes"
   ]
  },
  {
   "cell_type": "markdown",
   "metadata": {},
   "source": [
    "To improve the model explainability we would like to transform attributes differently than we did in the previous exercise.\n",
    "\n",
    "Doing this would allow us to analyse the model errors better, as there would be less features that would clutter our view of the importance of each feature.\n",
    "\n",
    "This is based on our first attempt at error analysis. We noticed how difficult it was for us to interpret the results from the SHAP graphs of the previous exercise."
   ]
  },
  {
   "cell_type": "code",
   "execution_count": 38,
   "metadata": {},
   "outputs": [
    {
     "ename": "",
     "evalue": "",
     "output_type": "error",
     "traceback": [
      "\u001b[1;31mnotebook controller is DISPOSED. \n",
      "\u001b[1;31mView Jupyter <a href='command:jupyter.viewOutput'>log</a> for further details."
     ]
    }
   ],
   "source": [
    "org_df_train = pd.read_csv('../Part_1/data/raw_train_data.csv',index_col='id')\n",
    "org_df_test = pd.read_csv('../Part_1/data/raw_test_data.csv',index_col='id')"
   ]
  },
  {
   "cell_type": "markdown",
   "metadata": {},
   "source": [
    "### 1.1.1 Color"
   ]
  },
  {
   "cell_type": "markdown",
   "metadata": {},
   "source": [
    "In the previous exercise we decided to discard of colors which were not of the top 12 most common colors.\n",
    "This time we do not lose data by grouping defferent shades to their \"origin\" color.\n",
    "\n",
    "In exchange we minimize the variety of our data column - under the premis that the differences in shade are not meaningful for the prediction of the car price."
   ]
  },
  {
   "cell_type": "code",
   "execution_count": 39,
   "metadata": {},
   "outputs": [
    {
     "ename": "",
     "evalue": "",
     "output_type": "error",
     "traceback": [
      "\u001b[1;31mnotebook controller is DISPOSED. \n",
      "\u001b[1;31mView Jupyter <a href='command:jupyter.viewOutput'>log</a> for further details."
     ]
    }
   ],
   "source": [
    "colors_drop = [col for col in df_train if col.startswith((\"int\", \"ext\"))]\n",
    "\n",
    "# brands_drop = [col for col in df_train if col.startswith((\"brand\"))]"
   ]
  },
  {
   "cell_type": "code",
   "execution_count": 40,
   "metadata": {},
   "outputs": [
    {
     "ename": "",
     "evalue": "",
     "output_type": "error",
     "traceback": [
      "\u001b[1;31mnotebook controller is DISPOSED. \n",
      "\u001b[1;31mView Jupyter <a href='command:jupyter.viewOutput'>log</a> for further details."
     ]
    }
   ],
   "source": [
    "df_train = df_train.drop(columns=colors_drop)\n",
    "df_test = df_test.drop(columns=colors_drop)\n",
    "\n",
    "# df_train = df_train.drop(columns=brands_drop)\n",
    "# df_test = df_test.drop(columns=brands_drop)"
   ]
  },
  {
   "cell_type": "code",
   "execution_count": 41,
   "metadata": {},
   "outputs": [
    {
     "ename": "",
     "evalue": "",
     "output_type": "error",
     "traceback": [
      "\u001b[1;31mnotebook controller is DISPOSED. \n",
      "\u001b[1;31mView Jupyter <a href='command:jupyter.viewOutput'>log</a> for further details."
     ]
    }
   ],
   "source": [
    "df_train = pd.concat([df_train,org_df_train[['int_col', 'ext_col']]],axis=1)\n",
    "df_test = pd.concat([df_test,org_df_test[['int_col', 'ext_col']]],axis=1)"
   ]
  },
  {
   "cell_type": "markdown",
   "metadata": {},
   "source": [
    "Colors that fall into \"Other\":\n",
    "\n",
    "'oyster w/contrast', 'ceramic', 'gideon',\n",
    "'sport', '–', 'designo magno matte',\n",
    "'dark sapphire', 'custom color', 'tempest', 'lunar rock',\n",
    "'nightfall mica', 'granite', 'Pink', 'c / c', 'yulong',\n",
    "'go mango!', 'grigio nimbus', 'metallic'"
   ]
  },
  {
   "cell_type": "code",
   "execution_count": 42,
   "metadata": {},
   "outputs": [
    {
     "ename": "",
     "evalue": "",
     "output_type": "error",
     "traceback": [
      "\u001b[1;31mnotebook controller is DISPOSED. \n",
      "\u001b[1;31mView Jupyter <a href='command:jupyter.viewOutput'>log</a> for further details."
     ]
    }
   ],
   "source": [
    "def categorize_color(color):\n",
    "    color = color.lower()\n",
    "    # Black group\n",
    "    if any(x in color for x in [\n",
    "        'black', 'obsidian', 'raven', 'onyx', 'ebony', 'nero', 'blk',\n",
    "        'graphite', 'charcoal', 'dark ash', 'anthracite', 'caviar', \n",
    "        'dark matter', 'magnetic', 'beluga', 'dark galvanized']):\n",
    "        return 'Black'\n",
    "    # White group\n",
    "    elif any(x in color for x in [\n",
    "        'white', 'pearl', 'ivory', 'frost', 'platinum', 'ice', 'cloud',\n",
    "        'chalk', 'bianco', 'glacier', 'linen', 'very light cashmere', \n",
    "        'parchment', 'parchment.']):\n",
    "        return 'White'\n",
    "    # Blue group\n",
    "    elif any(x in color for x in [\n",
    "        'blue', 'navy', 'aqua', 'teal', 'stormy', 'blu', 'eleos']):\n",
    "        return 'Blue'\n",
    "    # Red group\n",
    "    elif any(x in color for x in [\n",
    "        'red', 'ruby', 'garnet', 'hotspur', 'pimento', 'rosso', \n",
    "        'scarlet', 'mars', 'corsa', 'chateau']):\n",
    "        return 'Red'\n",
    "    # Silver/Gray group\n",
    "    elif any(x in color for x in [\n",
    "        'silver', 'gray', 'grey', 'steel', 'medium pewter', 'slate', \n",
    "        'boulder', 'porpoise', 'light slate', 'tungsten', 'gun metallic', \n",
    "        'medium stone', 'portland', 'mesa', 'ash']):\n",
    "        return 'Silver_Gray'\n",
    "    # Green group\n",
    "    elif any(x in color for x in [\n",
    "        'green', 'verde', 'moss', 'deep cypress']):\n",
    "        return 'Green'\n",
    "    # Yellow/Orange group\n",
    "    elif any(x in color for x in [\n",
    "        'yellow', 'gold', 'orange', 'amber', 'arancio', 'hellayella', \n",
    "        'sunset drift', 'sandstone', 'tension']):\n",
    "        return 'Yellow_Orange'\n",
    "    # Brown group\n",
    "    elif any(x in color for x in [\n",
    "        'brown', 'beige', 'tan', 'mocha', 'brandy', 'chestnut', \n",
    "        'espresso', 'roast', 'dark auburn', 'aragon', 'bronze', \n",
    "        'dune', 'maroon', 'walnut', 'camel', 'caramel', 'macchiato', \n",
    "        'medium light camel', 'shale', 'cappuccino', 'tupelo']):\n",
    "        return 'Brown'\n",
    "    # Purple group\n",
    "    elif any(x in color for x in ['purple', 'plum', 'ametrin', 'orchid', 'pink']):\n",
    "        return 'Purple_Pink'\n",
    "    # Default for unclassified entries\n",
    "    else:\n",
    "        return 'Other'"
   ]
  },
  {
   "cell_type": "code",
   "execution_count": 43,
   "metadata": {},
   "outputs": [
    {
     "ename": "",
     "evalue": "",
     "output_type": "error",
     "traceback": [
      "\u001b[1;31mnotebook controller is DISPOSED. \n",
      "\u001b[1;31mView Jupyter <a href='command:jupyter.viewOutput'>log</a> for further details."
     ]
    }
   ],
   "source": [
    "df_train['int_col'] = df_train['int_col'].apply(categorize_color)\n",
    "df_train['ext_col'] = df_train['ext_col'].apply(categorize_color)\n",
    "\n",
    "df_test['int_col'] = df_test['int_col'].apply(categorize_color)\n",
    "df_test['ext_col'] = df_test['ext_col'].apply(categorize_color)"
   ]
  },
  {
   "cell_type": "markdown",
   "metadata": {},
   "source": [
    "Converting the new int_color, ext_color to One-Hot features for the Linear Regression model.\n",
    "\n",
    "We combine train and test data to ensure consistent encoding."
   ]
  },
  {
   "cell_type": "code",
   "execution_count": 44,
   "metadata": {},
   "outputs": [
    {
     "ename": "",
     "evalue": "",
     "output_type": "error",
     "traceback": [
      "\u001b[1;31mnotebook controller is DISPOSED. \n",
      "\u001b[1;31mView Jupyter <a href='command:jupyter.viewOutput'>log</a> for further details."
     ]
    }
   ],
   "source": [
    "df_combined = pd.concat([df_train, df_test])\n",
    "\n",
    "# Convert categorical columns to numeric using one-hot encoding\n",
    "df_combined = pd.get_dummies(df_combined, columns=['int_col', 'ext_col'], drop_first=True)\n",
    "\n",
    "# boolean_columns = df_combined.select_dtypes(include=['bool']).columns\n",
    "# df_combined[boolean_columns] = df_combined[boolean_columns].astype(int)\n",
    "\n",
    "# Split the combined data back into train and test sets\n",
    "df_train = df_combined.iloc[:len(df_train)]\n",
    "df_test = df_combined.iloc[len(df_train):]"
   ]
  },
  {
   "cell_type": "code",
   "execution_count": null,
   "metadata": {},
   "outputs": [
    {
     "data": {
      "text/html": [
       "<div>\n",
       "<style scoped>\n",
       "    .dataframe tbody tr th:only-of-type {\n",
       "        vertical-align: middle;\n",
       "    }\n",
       "\n",
       "    .dataframe tbody tr th {\n",
       "        vertical-align: top;\n",
       "    }\n",
       "\n",
       "    .dataframe thead th {\n",
       "        text-align: right;\n",
       "    }\n",
       "</style>\n",
       "<table border=\"1\" class=\"dataframe\">\n",
       "  <thead>\n",
       "    <tr style=\"text-align: right;\">\n",
       "      <th></th>\n",
       "      <th>model_year</th>\n",
       "      <th>milage</th>\n",
       "      <th>accident</th>\n",
       "      <th>clean_title</th>\n",
       "      <th>horse_power</th>\n",
       "      <th>tank_size</th>\n",
       "      <th>num_cylinders</th>\n",
       "      <th>automatic</th>\n",
       "      <th>manual</th>\n",
       "      <th>dual</th>\n",
       "      <th>...</th>\n",
       "      <th>int_col_Yellow_Orange</th>\n",
       "      <th>ext_col_Blue</th>\n",
       "      <th>ext_col_Brown</th>\n",
       "      <th>ext_col_Green</th>\n",
       "      <th>ext_col_Other</th>\n",
       "      <th>ext_col_Purple_Pink</th>\n",
       "      <th>ext_col_Red</th>\n",
       "      <th>ext_col_Silver_Gray</th>\n",
       "      <th>ext_col_White</th>\n",
       "      <th>ext_col_Yellow_Orange</th>\n",
       "    </tr>\n",
       "    <tr>\n",
       "      <th>id</th>\n",
       "      <th></th>\n",
       "      <th></th>\n",
       "      <th></th>\n",
       "      <th></th>\n",
       "      <th></th>\n",
       "      <th></th>\n",
       "      <th></th>\n",
       "      <th></th>\n",
       "      <th></th>\n",
       "      <th></th>\n",
       "      <th></th>\n",
       "      <th></th>\n",
       "      <th></th>\n",
       "      <th></th>\n",
       "      <th></th>\n",
       "      <th></th>\n",
       "      <th></th>\n",
       "      <th></th>\n",
       "      <th></th>\n",
       "      <th></th>\n",
       "      <th></th>\n",
       "    </tr>\n",
       "  </thead>\n",
       "  <tbody>\n",
       "    <tr>\n",
       "      <th>0</th>\n",
       "      <td>2007</td>\n",
       "      <td>213000</td>\n",
       "      <td>False</td>\n",
       "      <td>True</td>\n",
       "      <td>172.0</td>\n",
       "      <td>1.6</td>\n",
       "      <td>4.0</td>\n",
       "      <td>True</td>\n",
       "      <td>False</td>\n",
       "      <td>False</td>\n",
       "      <td>...</td>\n",
       "      <td>False</td>\n",
       "      <td>False</td>\n",
       "      <td>False</td>\n",
       "      <td>False</td>\n",
       "      <td>False</td>\n",
       "      <td>False</td>\n",
       "      <td>False</td>\n",
       "      <td>False</td>\n",
       "      <td>False</td>\n",
       "      <td>True</td>\n",
       "    </tr>\n",
       "    <tr>\n",
       "      <th>1</th>\n",
       "      <td>2002</td>\n",
       "      <td>143250</td>\n",
       "      <td>True</td>\n",
       "      <td>True</td>\n",
       "      <td>252.0</td>\n",
       "      <td>3.9</td>\n",
       "      <td>8.0</td>\n",
       "      <td>True</td>\n",
       "      <td>False</td>\n",
       "      <td>False</td>\n",
       "      <td>...</td>\n",
       "      <td>False</td>\n",
       "      <td>False</td>\n",
       "      <td>False</td>\n",
       "      <td>False</td>\n",
       "      <td>False</td>\n",
       "      <td>False</td>\n",
       "      <td>False</td>\n",
       "      <td>True</td>\n",
       "      <td>False</td>\n",
       "      <td>False</td>\n",
       "    </tr>\n",
       "    <tr>\n",
       "      <th>2</th>\n",
       "      <td>2002</td>\n",
       "      <td>136731</td>\n",
       "      <td>False</td>\n",
       "      <td>True</td>\n",
       "      <td>320.0</td>\n",
       "      <td>5.3</td>\n",
       "      <td>8.0</td>\n",
       "      <td>True</td>\n",
       "      <td>False</td>\n",
       "      <td>False</td>\n",
       "      <td>...</td>\n",
       "      <td>False</td>\n",
       "      <td>True</td>\n",
       "      <td>False</td>\n",
       "      <td>False</td>\n",
       "      <td>False</td>\n",
       "      <td>False</td>\n",
       "      <td>False</td>\n",
       "      <td>False</td>\n",
       "      <td>False</td>\n",
       "      <td>False</td>\n",
       "    </tr>\n",
       "    <tr>\n",
       "      <th>3</th>\n",
       "      <td>2017</td>\n",
       "      <td>19500</td>\n",
       "      <td>False</td>\n",
       "      <td>True</td>\n",
       "      <td>420.0</td>\n",
       "      <td>5.0</td>\n",
       "      <td>8.0</td>\n",
       "      <td>False</td>\n",
       "      <td>False</td>\n",
       "      <td>True</td>\n",
       "      <td>...</td>\n",
       "      <td>False</td>\n",
       "      <td>False</td>\n",
       "      <td>False</td>\n",
       "      <td>False</td>\n",
       "      <td>False</td>\n",
       "      <td>False</td>\n",
       "      <td>False</td>\n",
       "      <td>False</td>\n",
       "      <td>False</td>\n",
       "      <td>False</td>\n",
       "    </tr>\n",
       "    <tr>\n",
       "      <th>4</th>\n",
       "      <td>2021</td>\n",
       "      <td>7388</td>\n",
       "      <td>False</td>\n",
       "      <td>True</td>\n",
       "      <td>208.0</td>\n",
       "      <td>2.0</td>\n",
       "      <td>4.0</td>\n",
       "      <td>True</td>\n",
       "      <td>False</td>\n",
       "      <td>False</td>\n",
       "      <td>...</td>\n",
       "      <td>False</td>\n",
       "      <td>False</td>\n",
       "      <td>False</td>\n",
       "      <td>False</td>\n",
       "      <td>False</td>\n",
       "      <td>False</td>\n",
       "      <td>False</td>\n",
       "      <td>False</td>\n",
       "      <td>False</td>\n",
       "      <td>False</td>\n",
       "    </tr>\n",
       "  </tbody>\n",
       "</table>\n",
       "<p>5 rows × 57 columns</p>\n",
       "</div>"
      ],
      "text/plain": [
       "    model_year  milage  accident  clean_title  horse_power  tank_size  \\\n",
       "id                                                                      \n",
       "0         2007  213000     False         True        172.0        1.6   \n",
       "1         2002  143250      True         True        252.0        3.9   \n",
       "2         2002  136731     False         True        320.0        5.3   \n",
       "3         2017   19500     False         True        420.0        5.0   \n",
       "4         2021    7388     False         True        208.0        2.0   \n",
       "\n",
       "    num_cylinders  automatic  manual   dual  ...  int_col_Yellow_Orange  \\\n",
       "id                                           ...                          \n",
       "0             4.0       True   False  False  ...                  False   \n",
       "1             8.0       True   False  False  ...                  False   \n",
       "2             8.0       True   False  False  ...                  False   \n",
       "3             8.0      False   False   True  ...                  False   \n",
       "4             4.0       True   False  False  ...                  False   \n",
       "\n",
       "    ext_col_Blue  ext_col_Brown  ext_col_Green  ext_col_Other  \\\n",
       "id                                                              \n",
       "0          False          False          False          False   \n",
       "1          False          False          False          False   \n",
       "2           True          False          False          False   \n",
       "3          False          False          False          False   \n",
       "4          False          False          False          False   \n",
       "\n",
       "    ext_col_Purple_Pink  ext_col_Red  ext_col_Silver_Gray  ext_col_White  \\\n",
       "id                                                                         \n",
       "0                 False        False                False          False   \n",
       "1                 False        False                 True          False   \n",
       "2                 False        False                False          False   \n",
       "3                 False        False                False          False   \n",
       "4                 False        False                False          False   \n",
       "\n",
       "    ext_col_Yellow_Orange  \n",
       "id                         \n",
       "0                    True  \n",
       "1                   False  \n",
       "2                   False  \n",
       "3                   False  \n",
       "4                   False  \n",
       "\n",
       "[5 rows x 57 columns]"
      ]
     },
     "execution_count": 45,
     "metadata": {},
     "output_type": "execute_result"
    },
    {
     "ename": "",
     "evalue": "",
     "output_type": "error",
     "traceback": [
      "\u001b[1;31mnotebook controller is DISPOSED. \n",
      "\u001b[1;31mView Jupyter <a href='command:jupyter.viewOutput'>log</a> for further details."
     ]
    }
   ],
   "source": [
    "df_train.head()"
   ]
  },
  {
   "cell_type": "markdown",
   "metadata": {},
   "source": [
    "## Testing the changes"
   ]
  },
  {
   "cell_type": "markdown",
   "metadata": {},
   "source": [
    "We can see that the transformation of the color columns had almost no affect on the R2 score, meaning our previous thing did not do good."
   ]
  },
  {
   "cell_type": "code",
   "execution_count": 46,
   "metadata": {},
   "outputs": [
    {
     "name": "stdout",
     "output_type": "stream",
     "text": [
      "R2 Score before convering the color columns: 0.1064\n",
      "R2 Score after convering the color columns: 0.1057\n"
     ]
    },
    {
     "ename": "",
     "evalue": "",
     "output_type": "error",
     "traceback": [
      "\u001b[1;31mnotebook controller is DISPOSED. \n",
      "\u001b[1;31mView Jupyter <a href='command:jupyter.viewOutput'>log</a> for further details."
     ]
    }
   ],
   "source": [
    "print(f'R2 Score before convering the color columns: {round(0.10637623834770804, 4)}')\n",
    "\n",
    "score_after_change = train_score_model(df_train, df_test)\n",
    "print(f'R2 Score after convering the color columns: {round(score_after_change, 4)}')"
   ]
  },
  {
   "cell_type": "markdown",
   "metadata": {},
   "source": [
    "### 1.1.2 Horse power "
   ]
  },
  {
   "cell_type": "code",
   "execution_count": 47,
   "metadata": {},
   "outputs": [
    {
     "ename": "",
     "evalue": "",
     "output_type": "error",
     "traceback": [
      "\u001b[1;31mnotebook controller is DISPOSED. \n",
      "\u001b[1;31mView Jupyter <a href='command:jupyter.viewOutput'>log</a> for further details."
     ]
    }
   ],
   "source": [
    "df_train_transformed = pd.read_csv('../Part_1/data/transformed_train_data.csv',index_col='id')\n",
    "df_test_transformed = pd.read_csv('../Part_1/data/transformed_test_data.csv',index_col='id')"
   ]
  },
  {
   "cell_type": "markdown",
   "metadata": {},
   "source": [
    "Replacing the data for Not Supported, Nan and - in fuel type to random values and checking if it changes the r squared"
   ]
  },
  {
   "cell_type": "code",
   "execution_count": 48,
   "metadata": {},
   "outputs": [
    {
     "ename": "",
     "evalue": "",
     "output_type": "error",
     "traceback": [
      "\u001b[1;31mnotebook controller is DISPOSED. \n",
      "\u001b[1;31mView Jupyter <a href='command:jupyter.viewOutput'>log</a> for further details."
     ]
    }
   ],
   "source": [
    "# Capture the original column order of df_train and df_test\n",
    "original_train_columns = df_train.columns\n",
    "original_test_columns = df_test.columns\n",
    "\n",
    "min_hp = df_train['horse_power'].min()\n",
    "max_hp = df_train['horse_power'].max()\n",
    "\n",
    "# Check the value of 'horse_power' in the original dataframe and update the one-hot encoded columns in df\n",
    "def replace_invalid_horse_power(row, org_row):\n",
    "    if pd.isna(org_row['horse_power']):\n",
    "        new_horse_power = np.random.randint(min_hp, max_hp)\n",
    "        row['horse_power'] = new_horse_power\n",
    "    return row\n",
    "\n",
    "# Apply the function to the 'horse_power' column in both train and test dataframes\n",
    "df_train = df_train.apply(lambda row: replace_invalid_horse_power(row, df_train_transformed.loc[row.name]), axis=1)\n",
    "df_test = df_test.apply(lambda row: replace_invalid_horse_power(row, df_test_transformed.loc[row.name]), axis=1)\n",
    "\n",
    "# Restore the original column order\n",
    "df_train = df_train[original_train_columns]\n",
    "df_test = df_test[original_test_columns]"
   ]
  },
  {
   "cell_type": "code",
   "execution_count": 49,
   "metadata": {},
   "outputs": [
    {
     "name": "stdout",
     "output_type": "stream",
     "text": [
      "R2 Score before replacing fuel type values with random values: 0.1057\n",
      "R2 Score after replacing fuel type values with random value: 0.1052\n"
     ]
    },
    {
     "ename": "",
     "evalue": "",
     "output_type": "error",
     "traceback": [
      "\u001b[1;31mnotebook controller is DISPOSED. \n",
      "\u001b[1;31mView Jupyter <a href='command:jupyter.viewOutput'>log</a> for further details."
     ]
    }
   ],
   "source": [
    "print(f'R2 Score before replacing fuel type values with random values: {round(score_after_change, 4)}')\n",
    "\n",
    "score_after_change_ = train_score_model(df_train, df_test)\n",
    "print(f'R2 Score after replacing fuel type values with random value: {round(score_after_change_, 4)}')"
   ]
  },
  {
   "cell_type": "markdown",
   "metadata": {},
   "source": [
    "As we can see, we got about the same R^2 value even with random values imputation. Therefore, we can infer that we need to come up with another way to fill those values. Maybe using KNN."
   ]
  },
  {
   "cell_type": "code",
   "execution_count": null,
   "metadata": {},
   "outputs": [
    {
     "ename": "",
     "evalue": "",
     "output_type": "error",
     "traceback": [
      "\u001b[1;31mnotebook controller is DISPOSED. \n",
      "\u001b[1;31mView Jupyter <a href='command:jupyter.viewOutput'>log</a> for further details."
     ]
    }
   ],
   "source": [
    "from sklearn.impute import KNNImputer\n",
    "\n",
    "df_train_transformed_copy = df_train_transformed.copy()\n",
    "df_test_transformed_copy = df_test_transformed.copy()\n",
    "\n",
    "# Apply KNNImputer\n",
    "imputer = KNNImputer(n_neighbors=3)\n",
    "\n",
    "# Impute missing values in 'horse_power' for df_train_transformed_copy and df_test_transformed_copy\n",
    "df_train_transformed_copy['horse_power'] = imputer.fit_transform(df_train_transformed_copy[['horse_power']])\n",
    "df_test_transformed_copy['horse_power'] = imputer.transform(df_test_transformed_copy[['horse_power']])\n",
    " \n",
    "# Update the one-hot encoded columns in df_train using the imputed 'horse_power' values from org_df_train_copy\n",
    "def update_horse_power_encoding(row, imputed_horse_power):\n",
    "    row['horse_power'] = imputed_horse_power\n",
    "    return row\n",
    "\n",
    "# Apply the updates to df_train and df_test\n",
    "df_train = df_train.apply(lambda row: update_horse_power_encoding(row, df_train_transformed_copy.loc[row.name, 'horse_power']), axis=1)\n",
    "df_test = df_test.apply(lambda row: update_horse_power_encoding(row, df_test_transformed_copy.loc[row.name, 'horse_power']), axis=1)\n"
   ]
  },
  {
   "cell_type": "code",
   "execution_count": null,
   "metadata": {},
   "outputs": [
    {
     "name": "stdout",
     "output_type": "stream",
     "text": [
      "R2 Score before replacing fuel type values with KNN-based values: 0.105\n",
      "R2 Score after replacing fuel type values with KNN-based value: 0.1057\n"
     ]
    },
    {
     "ename": "",
     "evalue": "",
     "output_type": "error",
     "traceback": [
      "\u001b[1;31mnotebook controller is DISPOSED. \n",
      "\u001b[1;31mView Jupyter <a href='command:jupyter.viewOutput'>log</a> for further details."
     ]
    }
   ],
   "source": [
    "print(f'R2 Score before replacing fuel type values with KNN-based values: {round(score_after_change, 4)}')\n",
    "\n",
    "score_after_change = train_score_model(df_train, df_test)\n",
    "print(f'R2 Score after replacing fuel type values with KNN-based value: {round(score_after_change, 4)}')"
   ]
  },
  {
   "cell_type": "markdown",
   "metadata": {},
   "source": [
    "Didn't see a change, probably because there were only 3% of the data. let's do it on a different attribute (maybe horsepower)"
   ]
  },
  {
   "cell_type": "markdown",
   "metadata": {},
   "source": [
    "### 1.1.3 Brand"
   ]
  },
  {
   "cell_type": "markdown",
   "metadata": {},
   "source": [
    "In exercise 1 we decided to turn brands into One-Hot vectors. Since there are many brands, we decided to turn only the 24 most common brand names into binary features, lumping the rest as \"Other\"\n",
    "\n",
    "Since the mass of features this raises interfears with our understanding on the model error's, we would like to encode the brand names in a way that does not inflate the data's dimention.\n",
    "\n",
    "Ordinal encoding does not fir because there is no order to the brands. \n",
    "\n",
    "We decided to use Target Encoding for this cause."
   ]
  },
  {
   "cell_type": "code",
   "execution_count": null,
   "metadata": {},
   "outputs": [
    {
     "ename": "",
     "evalue": "",
     "output_type": "error",
     "traceback": [
      "\u001b[1;31mnotebook controller is DISPOSED. \n",
      "\u001b[1;31mView Jupyter <a href='command:jupyter.viewOutput'>log</a> for further details."
     ]
    }
   ],
   "source": [
    "import category_encoders as ce\n",
    "\n",
    "# Apply target encoding to the 'brands' feature\n",
    "target_encoder = ce.TargetEncoder(cols=['brands'])\n",
    "df_train_encoded = df_train.copy()\n",
    "df_test_encoded = df_test.copy()\n",
    "\n",
    "df_train_encoded['brands'] = target_encoder.fit_transform(df_train['brands'], df_train['price'])\n",
    "df_test_encoded['brands'] = target_encoder.transform(df_test['brands'])\n"
   ]
  },
  {
   "cell_type": "code",
   "execution_count": null,
   "metadata": {},
   "outputs": [
    {
     "ename": "",
     "evalue": "",
     "output_type": "error",
     "traceback": [
      "\u001b[1;31mnotebook controller is DISPOSED. \n",
      "\u001b[1;31mView Jupyter <a href='command:jupyter.viewOutput'>log</a> for further details."
     ]
    }
   ],
   "source": [
    "print(f'R2 Score before target encoding the brands: {round(score_after_change, 4)}')\n",
    "\n",
    "score_after_change = train_score_model(df_train_encoded, df_test_encoded)\n",
    "print(f'R2 Score after target encoding the brands: {round(score_after_change, 4)}')"
   ]
  },
  {
   "cell_type": "markdown",
   "metadata": {},
   "source": [
    "We can see that the model's R2 score went up/down and that the explianability is better/worse..."
   ]
  },
  {
   "cell_type": "markdown",
   "metadata": {},
   "source": [
    "## 1.2 Data and model changes"
   ]
  },
  {
   "cell_type": "markdown",
   "metadata": {},
   "source": [
    "Brand transformation - Arbel\n",
    "\n",
    "remove outlliers && divide the price range into bins, check if there is an equal number of data entries for each price bin. maybe balance if not. Yael\n",
    "\n",
    "multiple collinearity show features correlation to one another [df.corr()] - decide on a course of action - Arbel\n",
    "\n",
    "rescale features which are not in a linear relationship with the price - Yael\n",
    "\n",
    "turn n values into n-1 One-Hot features: trasmission (baseline should be the most frequent value) - Arbel"
   ]
  }
 ],
 "metadata": {
  "kernelspec": {
   "display_name": ".venv",
   "language": "python",
   "name": "python3"
  },
  "language_info": {
   "codemirror_mode": {
    "name": "ipython",
    "version": 3
   },
   "file_extension": ".py",
   "mimetype": "text/x-python",
   "name": "python",
   "nbconvert_exporter": "python",
   "pygments_lexer": "ipython3",
   "version": "3.12.3"
  }
 },
 "nbformat": 4,
 "nbformat_minor": 2
}
