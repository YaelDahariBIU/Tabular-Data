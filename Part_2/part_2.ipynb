{
 "cells": [
  {
   "cell_type": "markdown",
   "metadata": {},
   "source": [
    "# 0. Imports"
   ]
  },
  {
   "cell_type": "markdown",
   "metadata": {},
   "source": [
    "## 0.1 Libraries"
   ]
  },
  {
   "cell_type": "code",
   "execution_count": 1,
   "metadata": {},
   "outputs": [
    {
     "name": "stderr",
     "output_type": "stream",
     "text": [
      "c:\\Users\\Yael Dahari\\Tabular-Data\\.venv\\Lib\\site-packages\\tqdm\\auto.py:21: TqdmWarning: IProgress not found. Please update jupyter and ipywidgets. See https://ipywidgets.readthedocs.io/en/stable/user_install.html\n",
      "  from .autonotebook import tqdm as notebook_tqdm\n"
     ]
    }
   ],
   "source": [
    "import numpy as np\n",
    "import pandas as pd \n",
    "\n",
    "import matplotlib.pyplot as plt\n",
    "import seaborn as sns\n",
    "from mpl_toolkits.mplot3d import Axes3D\n",
    "\n",
    "from sklearn.linear_model import LinearRegression\n",
    "\n",
    "from sklearn.metrics import r2_score,mean_squared_error, mean_absolute_percentage_error,mean_absolute_error\n",
    "\n",
    "import shap"
   ]
  },
  {
   "cell_type": "markdown",
   "metadata": {},
   "source": [
    "## 0.2. Model and data from part 1"
   ]
  },
  {
   "cell_type": "code",
   "execution_count": 105,
   "metadata": {},
   "outputs": [],
   "source": [
    "from pickle import load\n",
    "with open(\"../Part_1/part_1_model.pkl\", \"rb\") as f:\n",
    "    linear_reg = load(f)\n",
    "\n",
    "df_train = pd.read_csv('../Part_1/data/processed_train_data.csv',index_col='id')\n",
    "df_test = pd.read_csv('../Part_1/data/processed_test_data.csv',index_col='id')"
   ]
  },
  {
   "cell_type": "code",
   "execution_count": 106,
   "metadata": {},
   "outputs": [
    {
     "data": {
      "text/plain": [
       "Index(['model_year', 'milage', 'accident', 'clean_title', 'horse_power',\n",
       "       'tank_size', 'num_cylinders', 'automatic', 'manual', 'dual',\n",
       "       'brand_Audi', 'brand_BMW', 'brand_Cadillac', 'brand_Chevrolet',\n",
       "       'brand_Dodge', 'brand_Ford', 'brand_GMC', 'brand_Honda',\n",
       "       'brand_Hyundai', 'brand_INFINITI', 'brand_Jeep', 'brand_Kia',\n",
       "       'brand_Land', 'brand_Lexus', 'brand_Lincoln', 'brand_Mazda',\n",
       "       'brand_Mercedes-Benz', 'brand_Nissan', 'brand_Porsche', 'brand_RAM',\n",
       "       'brand_Subaru', 'brand_Tesla', 'brand_Toyota', 'brand_other',\n",
       "       'fuel_type_E85 Flex Fuel', 'fuel_type_Gasoline', 'fuel_type_Hybrid',\n",
       "       'fuel_type_Plug-In Hybrid', 'ext_col_Black', 'ext_col_Blue',\n",
       "       'ext_col_Brown', 'ext_col_Gold', 'ext_col_Gray', 'ext_col_Green',\n",
       "       'ext_col_Orange', 'ext_col_Red', 'ext_col_Silver', 'ext_col_White',\n",
       "       'ext_col_Yellow', 'ext_col_other', 'int_col_Black', 'int_col_Blue',\n",
       "       'int_col_Brown', 'int_col_Ebony', 'int_col_Global Black',\n",
       "       'int_col_Gray', 'int_col_Jet Black', 'int_col_Orange', 'int_col_Red',\n",
       "       'int_col_White', 'int_col_other', 'price'],\n",
       "      dtype='object')"
      ]
     },
     "execution_count": 106,
     "metadata": {},
     "output_type": "execute_result"
    }
   ],
   "source": [
    "df_train.columns"
   ]
  },
  {
   "cell_type": "code",
   "execution_count": 34,
   "metadata": {},
   "outputs": [
    {
     "data": {
      "text/html": [
       "<div>\n",
       "<style scoped>\n",
       "    .dataframe tbody tr th:only-of-type {\n",
       "        vertical-align: middle;\n",
       "    }\n",
       "\n",
       "    .dataframe tbody tr th {\n",
       "        vertical-align: top;\n",
       "    }\n",
       "\n",
       "    .dataframe thead th {\n",
       "        text-align: right;\n",
       "    }\n",
       "</style>\n",
       "<table border=\"1\" class=\"dataframe\">\n",
       "  <thead>\n",
       "    <tr style=\"text-align: right;\">\n",
       "      <th></th>\n",
       "      <th>model_year</th>\n",
       "      <th>milage</th>\n",
       "      <th>accident</th>\n",
       "      <th>clean_title</th>\n",
       "      <th>horse_power</th>\n",
       "      <th>tank_size</th>\n",
       "      <th>num_cylinders</th>\n",
       "      <th>automatic</th>\n",
       "      <th>manual</th>\n",
       "      <th>dual</th>\n",
       "      <th>...</th>\n",
       "      <th>int_col_Brown</th>\n",
       "      <th>int_col_Ebony</th>\n",
       "      <th>int_col_Global Black</th>\n",
       "      <th>int_col_Gray</th>\n",
       "      <th>int_col_Jet Black</th>\n",
       "      <th>int_col_Orange</th>\n",
       "      <th>int_col_Red</th>\n",
       "      <th>int_col_White</th>\n",
       "      <th>int_col_other</th>\n",
       "      <th>price</th>\n",
       "    </tr>\n",
       "    <tr>\n",
       "      <th>id</th>\n",
       "      <th></th>\n",
       "      <th></th>\n",
       "      <th></th>\n",
       "      <th></th>\n",
       "      <th></th>\n",
       "      <th></th>\n",
       "      <th></th>\n",
       "      <th></th>\n",
       "      <th></th>\n",
       "      <th></th>\n",
       "      <th></th>\n",
       "      <th></th>\n",
       "      <th></th>\n",
       "      <th></th>\n",
       "      <th></th>\n",
       "      <th></th>\n",
       "      <th></th>\n",
       "      <th></th>\n",
       "      <th></th>\n",
       "      <th></th>\n",
       "      <th></th>\n",
       "    </tr>\n",
       "  </thead>\n",
       "  <tbody>\n",
       "    <tr>\n",
       "      <th>37707</th>\n",
       "      <td>2003</td>\n",
       "      <td>46200</td>\n",
       "      <td>False</td>\n",
       "      <td>True</td>\n",
       "      <td>315.0</td>\n",
       "      <td>3.6</td>\n",
       "      <td>6.0</td>\n",
       "      <td>False</td>\n",
       "      <td>True</td>\n",
       "      <td>False</td>\n",
       "      <td>...</td>\n",
       "      <td>False</td>\n",
       "      <td>False</td>\n",
       "      <td>False</td>\n",
       "      <td>False</td>\n",
       "      <td>False</td>\n",
       "      <td>False</td>\n",
       "      <td>False</td>\n",
       "      <td>False</td>\n",
       "      <td>False</td>\n",
       "      <td>28750</td>\n",
       "    </tr>\n",
       "    <tr>\n",
       "      <th>37708</th>\n",
       "      <td>2010</td>\n",
       "      <td>115000</td>\n",
       "      <td>False</td>\n",
       "      <td>True</td>\n",
       "      <td>148.0</td>\n",
       "      <td>2.0</td>\n",
       "      <td>4.0</td>\n",
       "      <td>False</td>\n",
       "      <td>True</td>\n",
       "      <td>False</td>\n",
       "      <td>...</td>\n",
       "      <td>False</td>\n",
       "      <td>False</td>\n",
       "      <td>False</td>\n",
       "      <td>False</td>\n",
       "      <td>False</td>\n",
       "      <td>False</td>\n",
       "      <td>False</td>\n",
       "      <td>False</td>\n",
       "      <td>False</td>\n",
       "      <td>8950</td>\n",
       "    </tr>\n",
       "    <tr>\n",
       "      <th>37709</th>\n",
       "      <td>2021</td>\n",
       "      <td>39700</td>\n",
       "      <td>False</td>\n",
       "      <td>True</td>\n",
       "      <td>365.0</td>\n",
       "      <td>3.3</td>\n",
       "      <td>6.0</td>\n",
       "      <td>True</td>\n",
       "      <td>False</td>\n",
       "      <td>False</td>\n",
       "      <td>...</td>\n",
       "      <td>False</td>\n",
       "      <td>False</td>\n",
       "      <td>False</td>\n",
       "      <td>False</td>\n",
       "      <td>False</td>\n",
       "      <td>False</td>\n",
       "      <td>False</td>\n",
       "      <td>False</td>\n",
       "      <td>False</td>\n",
       "      <td>44400</td>\n",
       "    </tr>\n",
       "    <tr>\n",
       "      <th>37710</th>\n",
       "      <td>2022</td>\n",
       "      <td>22185</td>\n",
       "      <td>False</td>\n",
       "      <td>False</td>\n",
       "      <td>343.0</td>\n",
       "      <td>5.7</td>\n",
       "      <td>6.0</td>\n",
       "      <td>True</td>\n",
       "      <td>False</td>\n",
       "      <td>False</td>\n",
       "      <td>...</td>\n",
       "      <td>False</td>\n",
       "      <td>False</td>\n",
       "      <td>False</td>\n",
       "      <td>False</td>\n",
       "      <td>False</td>\n",
       "      <td>False</td>\n",
       "      <td>False</td>\n",
       "      <td>False</td>\n",
       "      <td>False</td>\n",
       "      <td>46599</td>\n",
       "    </tr>\n",
       "    <tr>\n",
       "      <th>37711</th>\n",
       "      <td>2011</td>\n",
       "      <td>152000</td>\n",
       "      <td>False</td>\n",
       "      <td>False</td>\n",
       "      <td>265.0</td>\n",
       "      <td>3.5</td>\n",
       "      <td>6.0</td>\n",
       "      <td>True</td>\n",
       "      <td>False</td>\n",
       "      <td>False</td>\n",
       "      <td>...</td>\n",
       "      <td>False</td>\n",
       "      <td>False</td>\n",
       "      <td>False</td>\n",
       "      <td>False</td>\n",
       "      <td>False</td>\n",
       "      <td>False</td>\n",
       "      <td>False</td>\n",
       "      <td>False</td>\n",
       "      <td>False</td>\n",
       "      <td>50500</td>\n",
       "    </tr>\n",
       "  </tbody>\n",
       "</table>\n",
       "<p>5 rows × 62 columns</p>\n",
       "</div>"
      ],
      "text/plain": [
       "       model_year  milage  accident  clean_title  horse_power  tank_size  \\\n",
       "id                                                                         \n",
       "37707        2003   46200     False         True        315.0        3.6   \n",
       "37708        2010  115000     False         True        148.0        2.0   \n",
       "37709        2021   39700     False         True        365.0        3.3   \n",
       "37710        2022   22185     False        False        343.0        5.7   \n",
       "37711        2011  152000     False        False        265.0        3.5   \n",
       "\n",
       "       num_cylinders  automatic  manual   dual  ...  int_col_Brown  \\\n",
       "id                                              ...                  \n",
       "37707            6.0      False    True  False  ...          False   \n",
       "37708            4.0      False    True  False  ...          False   \n",
       "37709            6.0       True   False  False  ...          False   \n",
       "37710            6.0       True   False  False  ...          False   \n",
       "37711            6.0       True   False  False  ...          False   \n",
       "\n",
       "       int_col_Ebony  int_col_Global Black  int_col_Gray  int_col_Jet Black  \\\n",
       "id                                                                            \n",
       "37707          False                 False         False              False   \n",
       "37708          False                 False         False              False   \n",
       "37709          False                 False         False              False   \n",
       "37710          False                 False         False              False   \n",
       "37711          False                 False         False              False   \n",
       "\n",
       "       int_col_Orange  int_col_Red  int_col_White  int_col_other  price  \n",
       "id                                                                       \n",
       "37707           False        False          False          False  28750  \n",
       "37708           False        False          False          False   8950  \n",
       "37709           False        False          False          False  44400  \n",
       "37710           False        False          False          False  46599  \n",
       "37711           False        False          False          False  50500  \n",
       "\n",
       "[5 rows x 62 columns]"
      ]
     },
     "execution_count": 34,
     "metadata": {},
     "output_type": "execute_result"
    }
   ],
   "source": [
    "df_test.head()"
   ]
  },
  {
   "cell_type": "markdown",
   "metadata": {},
   "source": [
    "# 1. Error Analysis"
   ]
  },
  {
   "cell_type": "markdown",
   "metadata": {},
   "source": [
    "## 1.1 Explainability changes"
   ]
  },
  {
   "cell_type": "markdown",
   "metadata": {},
   "source": [
    "To improve the model explainability we would like to transform attributes differently than we did in the previous exercise.\n",
    "\n",
    "Doing this would allow us to analyse the model errors better, as there would be less features that would clutter our view of the importance of each feature.\n",
    "\n",
    "This is based on our first attempt at error analysis. We noticed how difficult it was for us to interpret the results from the SHAP graphs of the previous exercise."
   ]
  },
  {
   "cell_type": "code",
   "execution_count": 75,
   "metadata": {},
   "outputs": [],
   "source": [
    "org_df_train = pd.read_csv('../Part_1/data/raw_train_data.csv',index_col='id')\n",
    "org_df_test = pd.read_csv('../Part_1/data/raw_test_data.csv',index_col='id')"
   ]
  },
  {
   "cell_type": "markdown",
   "metadata": {},
   "source": [
    "### 1.1.1 Color"
   ]
  },
  {
   "cell_type": "markdown",
   "metadata": {},
   "source": [
    "In the previous exercise we decided to discard of colors which were not of the top 12 most common colors.\n",
    "This time we do not lose data by grouping defferent shades to their \"origin\" color.\n",
    "\n",
    "In exchange we minimize the variety of our data column - under the premis that the differences in shade are not meaningful for the prediction of the car price."
   ]
  },
  {
   "cell_type": "code",
   "execution_count": 74,
   "metadata": {},
   "outputs": [],
   "source": [
    "colors_drop = [col for col in df_train if col.startswith((\"int\", \"ext\"))]\n",
    "\n",
    "brands_drop = [col for col in df_train if col.startswith((\"brand\"))]"
   ]
  },
  {
   "cell_type": "code",
   "execution_count": 75,
   "metadata": {},
   "outputs": [],
   "source": [
    "df_train = df_train.drop(columns=colors_drop)\n",
    "df_test = df_test.drop(columns=colors_drop)\n",
    "\n",
    "df_train = df_train.drop(columns=brands_drop)\n",
    "df_test = df_test.drop(columns=brands_drop)"
   ]
  },
  {
   "cell_type": "code",
   "execution_count": 77,
   "metadata": {},
   "outputs": [],
   "source": [
    "df_train = pd.concat([df_train,org_df_train[['brand','int_col', 'ext_col']]],axis=1)\n",
    "df_test = pd.concat([df_test,org_df_test[['brand','int_col', 'ext_col']]],axis=1)"
   ]
  },
  {
   "cell_type": "markdown",
   "metadata": {},
   "source": [
    "Colors that fall into \"Other\":\n",
    "\n",
    "'oyster w/contrast', 'ceramic', 'gideon',\n",
    "'sport', '–', 'designo magno matte',\n",
    "'dark sapphire', 'custom color', 'tempest', 'lunar rock',\n",
    "'nightfall mica', 'granite', 'Pink', 'c / c', 'yulong',\n",
    "'go mango!', 'grigio nimbus', 'metallic'"
   ]
  },
  {
   "cell_type": "code",
   "execution_count": 78,
   "metadata": {},
   "outputs": [],
   "source": [
    "def categorize_color(color):\n",
    "    color = color.lower()\n",
    "    # Black group\n",
    "    if any(x in color for x in [\n",
    "        'black', 'obsidian', 'raven', 'onyx', 'ebony', 'nero', 'blk',\n",
    "        'graphite', 'charcoal', 'dark ash', 'anthracite', 'caviar', \n",
    "        'dark matter', 'magnetic', 'beluga', 'dark galvanized']):\n",
    "        return 'Black'\n",
    "    # White group\n",
    "    elif any(x in color for x in [\n",
    "        'white', 'pearl', 'ivory', 'frost', 'platinum', 'ice', 'cloud',\n",
    "        'chalk', 'bianco', 'glacier', 'linen', 'very light cashmere', \n",
    "        'parchment', 'parchment.']):\n",
    "        return 'White'\n",
    "    # Blue group\n",
    "    elif any(x in color for x in [\n",
    "        'blue', 'navy', 'aqua', 'teal', 'stormy', 'blu', 'eleos']):\n",
    "        return 'Blue'\n",
    "    # Red group\n",
    "    elif any(x in color for x in [\n",
    "        'red', 'ruby', 'garnet', 'hotspur', 'pimento', 'rosso', \n",
    "        'scarlet', 'mars', 'corsa', 'chateau']):\n",
    "        return 'Red'\n",
    "    # Silver/Gray group\n",
    "    elif any(x in color for x in [\n",
    "        'silver', 'gray', 'grey', 'steel', 'medium pewter', 'slate', \n",
    "        'boulder', 'porpoise', 'light slate', 'tungsten', 'gun metallic', \n",
    "        'medium stone', 'portland', 'mesa', 'ash']):\n",
    "        return 'Silver_Gray'\n",
    "    # Green group\n",
    "    elif any(x in color for x in [\n",
    "        'green', 'verde', 'moss', 'deep cypress']):\n",
    "        return 'Green'\n",
    "    # Yellow/Orange group\n",
    "    elif any(x in color for x in [\n",
    "        'yellow', 'gold', 'orange', 'amber', 'arancio', 'hellayella', \n",
    "        'sunset drift', 'sandstone', 'tension']):\n",
    "        return 'Yellow_Orange'\n",
    "    # Brown group\n",
    "    elif any(x in color for x in [\n",
    "        'brown', 'beige', 'tan', 'mocha', 'brandy', 'chestnut', \n",
    "        'espresso', 'roast', 'dark auburn', 'aragon', 'bronze', \n",
    "        'dune', 'maroon', 'walnut', 'camel', 'caramel', 'macchiato', \n",
    "        'medium light camel', 'shale', 'cappuccino', 'tupelo']):\n",
    "        return 'Brown'\n",
    "    # Purple group\n",
    "    elif any(x in color for x in ['purple', 'plum', 'ametrin', 'orchid', 'pink']):\n",
    "        return 'Purple_Pink'\n",
    "    # Default for unclassified entries\n",
    "    else:\n",
    "        return 'Other'"
   ]
  },
  {
   "cell_type": "code",
   "execution_count": 79,
   "metadata": {},
   "outputs": [],
   "source": [
    "df_train['int_col'] = df_train['int_col'].apply(categorize_color)\n",
    "df_train['ext_col'] = df_train['ext_col'].apply(categorize_color)\n",
    "\n",
    "df_test['int_col'] = df_test['int_col'].apply(categorize_color)\n",
    "df_test['ext_col'] = df_test['ext_col'].apply(categorize_color)"
   ]
  },
  {
   "cell_type": "markdown",
   "metadata": {},
   "source": [
    "### 1.1.2 Brand"
   ]
  },
  {
   "cell_type": "markdown",
   "metadata": {},
   "source": [
    "Perviously we did..., this time we do..."
   ]
  },
  {
   "cell_type": "markdown",
   "metadata": {},
   "source": [
    "### 1.1.3 Testing the score and explainability of the model afther the change"
   ]
  },
  {
   "cell_type": "markdown",
   "metadata": {},
   "source": [
    "We can see that the model's R2 score went up/down and that the explianability is better/worse..."
   ]
  },
  {
   "cell_type": "markdown",
   "metadata": {},
   "source": [
    "Replacing the data for Not Supported, Nan and - in fuel type to random values and checking if it changes the r squared"
   ]
  },
  {
   "cell_type": "code",
   "execution_count": 107,
   "metadata": {},
   "outputs": [],
   "source": [
    "# Capture the original column order of df_train and df_test\n",
    "original_train_columns = df_train.columns\n",
    "original_test_columns = df_test.columns\n",
    "\n",
    "# Define the list of fuel types\n",
    "fuel_types = ['Gasoline', 'Hybrid', 'E85 Flex Fuel', 'Diesel', 'Plug-In Hybrid']\n",
    "\n",
    "# Check the value of 'fuel_type' in the original dataframe and update the one-hot encoded columns in df\n",
    "def replace_invalid_fuel_type(row, org_row):\n",
    "    if pd.isna(org_row['fuel_type']) or org_row['fuel_type'] in ['not supported', '–']:\n",
    "        new_fuel_type = np.random.choice(fuel_types)\n",
    "        for fuel in fuel_types:\n",
    "            if f'fuel_type_{fuel}' not in row.index:\n",
    "                row[f'fuel_type_{fuel}'] = 0\n",
    "            else:\n",
    "                row[f'fuel_type_{fuel}'] = (fuel == new_fuel_type)\n",
    "    return row\n",
    "\n",
    "# Apply the function to the 'fuel_type' column in both train and test dataframes\n",
    "df_train = df_train.apply(lambda row: replace_invalid_fuel_type(row, org_df_train.loc[row.name]), axis=1)\n",
    "df_test = df_test.apply(lambda row: replace_invalid_fuel_type(row, org_df_test.loc[row.name]), axis=1)\n",
    "\n",
    "# Restore the original column order\n",
    "df_train = df_train[original_train_columns]\n",
    "df_test = df_test[original_test_columns]"
   ]
  },
  {
   "cell_type": "code",
   "execution_count": 110,
   "metadata": {},
   "outputs": [],
   "source": [
    "# Separate features and target variable\n",
    "y_train = df_train['price']\n",
    "X_train = df_train.drop(columns=['price'])\n",
    "y_test = df_test['price']\n",
    "X_test = df_test.drop(columns=['price'])\n"
   ]
  },
  {
   "cell_type": "code",
   "execution_count": 112,
   "metadata": {},
   "outputs": [
    {
     "name": "stdout",
     "output_type": "stream",
     "text": [
      "New R-squared value: 0.10631733317458125\n"
     ]
    }
   ],
   "source": [
    "# Make predictions using the original model\n",
    "y_pred = linear_reg.predict(X_test)\n",
    "\n",
    "# Calculate the R-squared value\n",
    "r_squared = r2_score(y_test, y_pred)\n",
    "print(f'New R-squared value: {r_squared}')"
   ]
  },
  {
   "cell_type": "markdown",
   "metadata": {},
   "source": [
    "As we can see, we got the same R^2 value even with random values imputation. Therefore, we can infer that we need to come up with another way to fill those values. Maybe using KNN."
   ]
  },
  {
   "cell_type": "code",
   "execution_count": 114,
   "metadata": {},
   "outputs": [
    {
     "name": "stderr",
     "output_type": "stream",
     "text": [
      "C:\\Users\\Yael Dahari\\AppData\\Local\\Temp\\ipykernel_8040\\3456495128.py:4: FutureWarning: A value is trying to be set on a copy of a DataFrame or Series through chained assignment using an inplace method.\n",
      "The behavior will change in pandas 3.0. This inplace method will never work because the intermediate object on which we are setting values always behaves as a copy.\n",
      "\n",
      "For example, when doing 'df[col].method(value, inplace=True)', try using 'df.method({col: value}, inplace=True)' or df[col] = df[col].method(value) instead, to perform the operation inplace on the original object.\n",
      "\n",
      "\n",
      "  org_df_train['fuel_type'].replace(['–', 'not supported'], np.nan, inplace=True)\n",
      "C:\\Users\\Yael Dahari\\AppData\\Local\\Temp\\ipykernel_8040\\3456495128.py:5: FutureWarning: A value is trying to be set on a copy of a DataFrame or Series through chained assignment using an inplace method.\n",
      "The behavior will change in pandas 3.0. This inplace method will never work because the intermediate object on which we are setting values always behaves as a copy.\n",
      "\n",
      "For example, when doing 'df[col].method(value, inplace=True)', try using 'df.method({col: value}, inplace=True)' or df[col] = df[col].method(value) instead, to perform the operation inplace on the original object.\n",
      "\n",
      "\n",
      "  org_df_test['fuel_type'].replace(['–', 'not supported'], np.nan, inplace=True)\n"
     ]
    }
   ],
   "source": [
    "from sklearn.impute import KNNImputer\n",
    "\n",
    "# Replace invalid or missing values in org_df_train and org_df_test with NaN\n",
    "org_df_train['fuel_type'].replace(['–', 'not supported'], np.nan, inplace=True)\n",
    "org_df_test['fuel_type'].replace(['–', 'not supported'], np.nan, inplace=True)\n",
    "\n",
    "# Map categorical values to numeric values for KNNImputer\n",
    "fuel_type_mapping = {\n",
    "    'E85 Flex Fuel': 1,\n",
    "    'Gasoline': 2,\n",
    "    'Hybrid': 3,\n",
    "    'Diesel': 4,\n",
    "    'Plug-In Hybrid': 5,\n",
    "    np.nan: np.nan\n",
    "}\n",
    "\n",
    "org_df_train['fuel_type'] = org_df_train['fuel_type'].replace(fuel_type_mapping)\n",
    "org_df_test['fuel_type'] = org_df_test['fuel_type'].replace(fuel_type_mapping)\n",
    "\n",
    "# Apply KNNImputer\n",
    "imputer = KNNImputer(n_neighbors=3)\n",
    "\n",
    "# Impute missing values in 'fuel_type' for org_df_train and org_df_test\n",
    "org_df_train['fuel_type'] = imputer.fit_transform(org_df_train[['fuel_type']])\n",
    "org_df_test['fuel_type'] = imputer.transform(org_df_test[['fuel_type']])\n",
    "\n",
    "# Convert numeric values back to categorical values\n",
    "reverse_fuel_type_mapping = {v: k for k, v in fuel_type_mapping.items() if not pd.isna(v)}\n",
    "\n",
    "org_df_train['fuel_type'] = org_df_train['fuel_type'].round().replace(reverse_fuel_type_mapping)\n",
    "org_df_test['fuel_type'] = org_df_test['fuel_type'].round().replace(reverse_fuel_type_mapping)\n",
    "\n",
    "# Define the list of fuel types for one-hot encoding\n",
    "fuel_types = ['Gasoline', 'Hybrid', 'E85 Flex Fuel', 'Diesel', 'Plug-In Hybrid']\n",
    "\n",
    "# Update the one-hot encoded columns in df_train using the imputed 'fuel_type' values from org_df_train\n",
    "def update_fuel_type_encoding(row, imputed_fuel_type):\n",
    "    for fuel in fuel_types:\n",
    "        if f'fuel_type_{fuel}' in row.index:\n",
    "            row[f'fuel_type_{fuel}'] = (fuel == imputed_fuel_type)\n",
    "    return row\n",
    "\n",
    "# Apply the updates to df_train and df_test\n",
    "df_train = df_train.apply(lambda row: update_fuel_type_encoding(row, org_df_train.loc[row.name, 'fuel_type']), axis=1)\n",
    "df_test = df_test.apply(lambda row: update_fuel_type_encoding(row, org_df_test.loc[row.name, 'fuel_type']), axis=1)\n"
   ]
  },
  {
   "cell_type": "code",
   "execution_count": 115,
   "metadata": {},
   "outputs": [
    {
     "name": "stdout",
     "output_type": "stream",
     "text": [
      "New R-squared value: 0.10637623834770804\n"
     ]
    }
   ],
   "source": [
    "# Separate features and target variable\n",
    "y_train = df_train['price']\n",
    "X_train = df_train.drop(columns=['price'])\n",
    "y_test = df_test['price']\n",
    "X_test = df_test.drop(columns=['price'])\n",
    "\n",
    "# Make predictions using the original model\n",
    "y_pred = linear_reg.predict(X_test)\n",
    "\n",
    "# Calculate the R-squared value\n",
    "r_squared = r2_score(y_test, y_pred)\n",
    "print(f'New R-squared value: {r_squared}')"
   ]
  },
  {
   "cell_type": "markdown",
   "metadata": {},
   "source": [
    "# Didn't see an improvement - how come?"
   ]
  },
  {
   "cell_type": "markdown",
   "metadata": {},
   "source": [
    "## 1.2 Data and model changes"
   ]
  },
  {
   "cell_type": "markdown",
   "metadata": {},
   "source": []
  }
 ],
 "metadata": {
  "kernelspec": {
   "display_name": ".venv",
   "language": "python",
   "name": "python3"
  },
  "language_info": {
   "codemirror_mode": {
    "name": "ipython",
    "version": 3
   },
   "file_extension": ".py",
   "mimetype": "text/x-python",
   "name": "python",
   "nbconvert_exporter": "python",
   "pygments_lexer": "ipython3",
   "version": "3.12.1"
  }
 },
 "nbformat": 4,
 "nbformat_minor": 2
}
