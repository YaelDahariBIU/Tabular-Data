{
 "cells": [
  {
   "cell_type": "markdown",
   "metadata": {},
   "source": [
    "# 0. Imports"
   ]
  },
  {
   "cell_type": "markdown",
   "metadata": {},
   "source": [
    "### 0.1 Import our Automation Code"
   ]
  },
  {
   "cell_type": "code",
   "execution_count": 1,
   "metadata": {},
   "outputs": [],
   "source": [
    "import automation as auto"
   ]
  },
  {
   "cell_type": "markdown",
   "metadata": {},
   "source": [
    "### 0.2 Import the Dataset\n",
    "\n",
    "The Movies Revenue dataset contains 34 features related to movies, including `budget`, `title`, `runtime`, `crew`, `cast`, and more, with the goal of predicting movie `revenue`.  \n",
    "•\t**Dataset dimensions**: (5368, 34)  \n",
    "•\t**Target attribute**: `revenue`"
   ]
  },
  {
   "cell_type": "code",
   "execution_count": 27,
   "metadata": {},
   "outputs": [],
   "source": [
    "df_train = auto.load_data('./data/dataset_movies_train.csv')\n",
    "df_test = auto.load_data('./data/dataset_movies_test.csv')\n",
    "org_train = df_train.copy()\n",
    "org_test = df_test.copy()\n",
    "target = 'revenue'"
   ]
  },
  {
   "cell_type": "markdown",
   "metadata": {},
   "source": [
    "### 0.3 Artificially Introduce Nulls to the Data\n",
    "Since our dataset doesn't have missing values, for the sake of demonstration, we've artificially removed some of the values from a few attributes."
   ]
  },
  {
   "cell_type": "code",
   "execution_count": 28,
   "metadata": {},
   "outputs": [],
   "source": [
    "attributes = ['budget', 'original_language', 'vote_count', 'popularity']\n",
    "percentages = [27, 32, 27, 25]\n",
    "df_train, df_test, missing_train, missing_test = auto.create_mcar(df_train, df_test, attributes, percentages)"
   ]
  },
  {
   "cell_type": "markdown",
   "metadata": {},
   "source": [
    "# 1. Explore the Missing Values\n",
    "**Method**: `show_nulls`\n",
    "\n",
    "**Input**:\n",
    "- **df_train** → The training dataset  \n",
    "- **df_test** → The test dataset  \n",
    "\n",
    "**Description**:\n",
    "The `show_nulls` method provides an overview of missing values in the given datasets. It identifies attributes with missing values and displays:  \n",
    "- The count of missing values per attribute  \n",
    "- The percentage of missing values relative to the entire dataset  \n",
    "\n",
    "This helps in understanding the extent of missing data before applying imputation techniques."
   ]
  },
  {
   "cell_type": "code",
   "execution_count": 29,
   "metadata": {},
   "outputs": [
    {
     "name": "stdout",
     "output_type": "stream",
     "text": [
      "Train data:\n",
      "                   Null Count Percentage\n",
      "original_language        1374    31.998%\n",
      "budget                   1159    26.991%\n",
      "popularity               1073    24.988%\n",
      "vote_count               1159    26.991%\n",
      "\n",
      "Test data:\n",
      "                   Null Count Percentage\n",
      "original_language         343    31.937%\n",
      "budget                    289    26.909%\n",
      "popularity                268    24.953%\n",
      "vote_count                289    26.909%\n"
     ]
    }
   ],
   "source": [
    "auto.show_nulls(df_train, df_test)"
   ]
  },
  {
   "cell_type": "markdown",
   "metadata": {},
   "source": [
    "# 2. Imputing Attributes and Evaluating the Scores\n",
    "\n",
    "### 2.1 Imputing an Attribute\n",
    "\n",
    "**Method**: `try_all_methods`\n",
    "\n",
    "**Input**:\n",
    "- **df_train** → The training dataset  \n",
    "- **df_test** → The test dataset  \n",
    "- **attribute** → The attribute to be imputed  \n",
    "- **target** → The name of the target attribute  \n",
    "- **is_categorical** → A boolean indicating whether the attribute to be imputed is categorical or numerical  \n",
    "\n",
    "**Output**:\n",
    "- **df_array** → A list of datasets, where each pair represents the train and test data created using a different imputation method.  \n",
    "\n",
    "**Description**:\n",
    "The `try_all_methods` function applies various imputation techniques to the selected attribute and returns the resulting datasets. This allows for a comprehensive comparison of different imputation strategies.\n"
   ]
  },
  {
   "cell_type": "code",
   "execution_count": 30,
   "metadata": {},
   "outputs": [],
   "source": [
    "# Example of imputing the attribute budget\n",
    "attribute = 'budget'\n",
    "df_arr = auto.try_all_methods(df_train, df_test, attribute, target, is_categorical=False)"
   ]
  },
  {
   "cell_type": "markdown",
   "metadata": {},
   "source": [
    "### 2.2 Evaluating the Scores\n",
    "\n",
    "**Method**: `eval_and_show`\n",
    "\n",
    "**Input**:\n",
    "- **df_array** → A list of datasets containing the train and test data for each imputation method.  \n",
    "- **target** → The target attribute of the dataset.  \n",
    "\n",
    "**Output**:\n",
    "- Displays the evaluation metrics of the model after applying the imputations.  \n",
    "\n",
    "**Description**:\n",
    "The `eval_and_show` function evaluates the impact of different imputation methods by measuring the model's performance on the imputed datasets. It provides a comparative analysis of how each method affects predictive accuracy.\n"
   ]
  },
  {
   "cell_type": "code",
   "execution_count": 31,
   "metadata": {},
   "outputs": [
    {
     "name": "stdout",
     "output_type": "stream",
     "text": [
      "\u001b[1mError Evaluation Metrics for Different Methods:\u001b[0m\n",
      "                   R2 Score     MSE Score    RMSE Score     MAPE Score  \\\n",
      "Random                0.292  2.911342e+16  1.706265e+08  31567153.742%   \n",
      "Mean                  0.637  1.491611e+16  1.221315e+08   5383747.338%   \n",
      "Median                0.633  1.506832e+16  1.227531e+08   2523536.329%   \n",
      "Frequent              0.637  1.493441e+16  1.222064e+08   4048972.291%   \n",
      "KNN                   0.637  1.491611e+16  1.221315e+08   5383747.338%   \n",
      "Linear Regression     0.615  1.581651e+16  1.257637e+08   3032091.729%   \n",
      "Drop                  0.679  1.459934e+16  1.208277e+08    4933155.66%   \n",
      "\n",
      "                      MAE Score  \n",
      "Random             1.110190e+08  \n",
      "Mean               6.518379e+07  \n",
      "Median             6.491659e+07  \n",
      "Frequent           6.482770e+07  \n",
      "KNN                6.518379e+07  \n",
      "Linear Regression  6.718780e+07  \n",
      "Drop               5.981908e+07  \n"
     ]
    }
   ],
   "source": [
    "auto.eval_and_show(df_arr, target)"
   ]
  },
  {
   "cell_type": "markdown",
   "metadata": {},
   "source": [
    "# 3. Deciding on an Imputation Method\n",
    "\n",
    "## 3.1 Asking for General Tips Regarding the Choice\n",
    "\n",
    "**Method**: `tips`\n",
    "\n",
    "**Description**:\n",
    "The `tips` function provides general guidance on selecting an imputation method by listing the advantages and disadvantages of each approach. This helps users make an informed decision based on their dataset and analysis needs.\n"
   ]
  },
  {
   "cell_type": "code",
   "execution_count": 2,
   "metadata": {},
   "outputs": [
    {
     "name": "stdout",
     "output_type": "stream",
     "text": [
      "\n",
      "    Here are some advantages and disadvantages of the imputation methods:\n",
      "\n",
      "    1. **Random Imputation**\n",
      "        - **Advantages:**\n",
      "            - Simple and fast.\n",
      "            - Useful for large datasets with small missing data.\n",
      "            - Serves as a baseline or fallback method when other methods don’t significantly improve results.\n",
      "        - **Disadvantages:**\n",
      "            - Does not account for relationships between features.\n",
      "            - Can introduce noise and distort patterns.\n",
      "            - No statistical basis, potentially leading to unreliable results.\n",
      "\n",
      "    2. **Mean Imputation**\n",
      "        - **Advantages:**\n",
      "            - Simple and fast.\n",
      "            - Works well with normally distributed data.\n",
      "            - No loss of data points.\n",
      "        - **Disadvantages:**\n",
      "            - Can distort data distributions, especially in skewed data.\n",
      "            - Reduces variability, which might affect model performance.\n",
      "            - Not suitable for skewed or non-normal distributions.\n",
      "\n",
      "    3. **Median Imputation**\n",
      "        - **Advantages:**\n",
      "            - Robust to outliers.\n",
      "            - Effective for skewed data.\n",
      "            - Helps preserve central tendency without distorting distribution.\n",
      "        - **Disadvantages:**\n",
      "            - Can still distort data, especially in multimodal distributions.\n",
      "            - Less effective in small datasets.\n",
      "    \n",
      "    4. **Most Frequent (Mode) Imputation**\n",
      "        - **Advantages:**\n",
      "            - Simple and fast.\n",
      "            - Effective for categorical data.\n",
      "            - No data loss.\n",
      "        - **Disadvantages:**\n",
      "            - Ignores relationships between features, causing potential distortion.\n",
      "            - Limited to categorical data.\n",
      "            - Can over-represent dominant categories.\n",
      "\n",
      "    5. **K-Nearest Neighbors (KNN) Imputation**\n",
      "        - **Advantages:**\n",
      "            - Considers relationships between features.\n",
      "            - Effective for datasets with complex relationships.\n",
      "            - Works for both numerical and categorical data.\n",
      "        - **Disadvantages:**\n",
      "            - Computationally expensive.\n",
      "            - Sensitive to dimensionality (curse of dimensionality).\n",
      "            - Requires careful tuning of the number of neighbors (k).\n",
      "\n",
      "    6. **Linear Regression Imputation**\n",
      "        - **Advantages:**\n",
      "            - Accounts for relationships between features.\n",
      "            - Works well for continuous numerical data with linear relationships.\n",
      "            - Can handle datasets with multiple features.\n",
      "        - **Disadvantages:**\n",
      "            - Assumes linearity, which might not hold for all datasets.\n",
      "            - Prone to overfitting if not regularized.\n",
      "            - Computationally intensive for large datasets.\n",
      "\n",
      "    7. **Drop**\n",
      "        - **Advantages:**\n",
      "            - Simple and fast.\n",
      "            - No imputation bias.\n",
      "            - Preserves the original data distribution.\n",
      "        - **Disadvantages:**\n",
      "            - Causes loss of information.\n",
      "            - Can introduce bias if data is not missing at random.\n",
      "            - Not ideal when a large portion of the data is missing.\n",
      "    \n"
     ]
    }
   ],
   "source": [
    "auto.tips()"
   ]
  },
  {
   "cell_type": "markdown",
   "metadata": {},
   "source": [
    "### 3.2 Choosing a Method for Imputation\n",
    "\n",
    "#### 3.2.1 Getting the Data of the Chosen Method\n",
    "\n",
    "**Method**: `get_imputed_data`\n",
    "\n",
    "**Input**:\n",
    "- **df_array** → A list containing train and test datasets after performing each imputation method.  \n",
    "- **method** → An integer representing the chosen imputation method:  \n",
    "  - `1` → Random  \n",
    "  - `2` → Mean  \n",
    "  - `3` → Median  \n",
    "  - `4` → Frequent  \n",
    "  - `5` → KNN  \n",
    "  - `6` → LR  \n",
    "  - `7` → Drop  \n",
    "\n",
    "**Output**:\n",
    "- Returns the train and test datasets corresponding to the selected imputation method.\n"
   ]
  },
  {
   "cell_type": "code",
   "execution_count": 33,
   "metadata": {},
   "outputs": [],
   "source": [
    "# Example of imputing using the mean\n",
    "mean = 2\n",
    "imputed_data = auto.get_imputed_data(df_arr, mean)"
   ]
  },
  {
   "cell_type": "markdown",
   "metadata": {},
   "source": [
    "#### 3.2.2 Apply All Imputations\n",
    "\n",
    "Create a list of pairs `(attribute, imputed_data)` and call the method `apply_all_imputations`.\n",
    "\n",
    "**Input**:\n",
    "- **df_train** → The train dataset.  \n",
    "- **df_test** → The test dataset.  \n",
    "\n",
    "**Description**:\n",
    "This method applies all the chosen imputation methods to the given datasets."
   ]
  },
  {
   "cell_type": "code",
   "execution_count": 34,
   "metadata": {},
   "outputs": [],
   "source": [
    "data_per_attr = [(attribute, imputed_data)]\n",
    "auto.apply_all_imputations(df_train, df_test, data_per_attr)"
   ]
  },
  {
   "cell_type": "markdown",
   "metadata": {},
   "source": [
    "# 4. Save the Imputed Data\n",
    "\n",
    "Call the method `save`.\n",
    "\n",
    "**Input**:\n",
    "- **name** → The desired name of the file.  \n",
    "- **path** → The path where the file should be saved.  \n",
    "- **df** → The dataframe to save.  \n",
    "- **(index)** → The index column (default is `False`).  \n",
    "\n",
    "**Description**:\n",
    "This method saves the dataframe to the specified location and prints a confirmation message upon successful completion."
   ]
  },
  {
   "cell_type": "code",
   "execution_count": 35,
   "metadata": {},
   "outputs": [
    {
     "name": "stdout",
     "output_type": "stream",
     "text": [
      "Data saved to ./data/imputed/train_imputed.csv\n",
      "Data saved to ./data/imputed/test_imputed.csv\n"
     ]
    }
   ],
   "source": [
    "auto.save('train', './data/imputed/', df_train)\n",
    "auto.save('test', './data/imputed/', df_test)"
   ]
  }
 ],
 "metadata": {
  "kernelspec": {
   "display_name": "Python 3",
   "language": "python",
   "name": "python3"
  },
  "language_info": {
   "codemirror_mode": {
    "name": "ipython",
    "version": 3
   },
   "file_extension": ".py",
   "mimetype": "text/x-python",
   "name": "python",
   "nbconvert_exporter": "python",
   "pygments_lexer": "ipython3",
   "version": "3.9.13"
  }
 },
 "nbformat": 4,
 "nbformat_minor": 2
}
