{
 "cells": [
  {
   "cell_type": "markdown",
   "metadata": {},
   "source": [
    "This is our notebook for the final project, where we'll demonstrate our solution."
   ]
  },
  {
   "cell_type": "markdown",
   "metadata": {},
   "source": [
    "# 0. Imports"
   ]
  },
  {
   "cell_type": "markdown",
   "metadata": {},
   "source": [
    "## 0.1 Importing Libraries"
   ]
  },
  {
   "cell_type": "code",
   "execution_count": 172,
   "metadata": {},
   "outputs": [],
   "source": [
    "import numpy as np\n",
    "import pandas as pd \n",
    "\n",
    "import matplotlib.pyplot as plt\n",
    "import seaborn as sns\n",
    "\n",
    "from scipy.stats import ks_2samp\n",
    "\n",
    "from sklearn.linear_model import LinearRegression\n",
    "from sklearn.metrics import r2_score,mean_squared_error, mean_absolute_percentage_error,mean_absolute_error\n",
    "from sklearn.preprocessing import OrdinalEncoder\n",
    "from sklearn.impute import KNNImputer\n",
    "\n",
    "import shap\n",
    "import category_encoders as ce\n",
    "from scipy.stats import skew\n",
    "from statsmodels.api import OLS, add_constant\n",
    "from sklearn.preprocessing import PowerTransformer"
   ]
  },
  {
   "cell_type": "markdown",
   "metadata": {},
   "source": [
    "## 0.2 Importing Models"
   ]
  },
  {
   "cell_type": "code",
   "execution_count": 190,
   "metadata": {},
   "outputs": [
    {
     "name": "stderr",
     "output_type": "stream",
     "text": [
      "c:\\Users\\Yael Dahari\\Tabular-Data\\.venv\\Lib\\site-packages\\sklearn\\base.py:380: InconsistentVersionWarning: Trying to unpickle estimator LinearRegression from version 1.5.2 when using version 1.6.1. This might lead to breaking code or invalid results. Use at your own risk. For more info please refer to:\n",
      "https://scikit-learn.org/stable/model_persistence.html#security-maintainability-limitations\n",
      "  warnings.warn(\n"
     ]
    }
   ],
   "source": [
    "from pickle import load\n",
    "with open(\"../Part_1/part_1_model.pkl\", \"rb\") as f:\n",
    "    linear_reg = load(f)\n",
    "\n",
    "df_train_cars = pd.read_csv('./data/ready_train_data.csv',index_col='id')\n",
    "df_test_cars = pd.read_csv('./data/ready_test_data.csv',index_col='id')"
   ]
  },
  {
   "cell_type": "markdown",
   "metadata": {},
   "source": [
    "# 1. The Methods Needed"
   ]
  },
  {
   "cell_type": "markdown",
   "metadata": {},
   "source": [
    "### 1.1 A function to show the amount of Null values in each category of the data."
   ]
  },
  {
   "cell_type": "code",
   "execution_count": 191,
   "metadata": {},
   "outputs": [],
   "source": [
    "def show_nulls(df_train, df_test):\n",
    "    print('Train data:')\n",
    "    train_nulls = df_train.isnull().sum()\n",
    "    train_nulls_percentage = (train_nulls / len(df_train)) * 100\n",
    "    train_nulls_percentage = train_nulls_percentage.round(3)\n",
    "    train_nulls_percentage = train_nulls_percentage.astype(str) + '%'\n",
    "    train_nulls_info = pd.concat([train_nulls[train_nulls > 0], train_nulls_percentage[train_nulls > 0]], axis=1)\n",
    "    train_nulls_info.columns = ['Null Count', 'Percentage']\n",
    "    print(train_nulls_info)\n",
    "    \n",
    "    print()\n",
    "    print('Test data:')\n",
    "    test_nulls = df_test.isnull().sum()\n",
    "    test_nulls_percentage = (test_nulls / len(df_test)) * 100\n",
    "    test_nulls_percentage = test_nulls_percentage.round(3)\n",
    "    test_nulls_percentage = test_nulls_percentage.astype(str) + '%'\n",
    "    test_nulls_info = pd.concat([test_nulls[test_nulls > 0], test_nulls_percentage[test_nulls > 0]], axis=1)\n",
    "    test_nulls_info.columns = ['Null Count', 'Percentage']\n",
    "    print(test_nulls_info)\n",
    "    \n",
    "    return"
   ]
  },
  {
   "cell_type": "code",
   "execution_count": 192,
   "metadata": {},
   "outputs": [
    {
     "name": "stdout",
     "output_type": "stream",
     "text": [
      "Train data:\n",
      "               Null Count Percentage\n",
      "fuel_type            4059     2.691%\n",
      "accident             1983     1.315%\n",
      "clean_title         17229    11.423%\n",
      "horse_power         26584    17.626%\n",
      "tank_size           11339     7.518%\n",
      "num_cylinders       30250    20.056%\n",
      "\n",
      "Test data:\n",
      "               Null Count Percentage\n",
      "fuel_type            1024     2.716%\n",
      "accident              469     1.244%\n",
      "clean_title          4190    11.112%\n",
      "horse_power          6675    17.702%\n",
      "tank_size            2875     7.625%\n",
      "num_cylinders        7605    20.169%\n"
     ]
    }
   ],
   "source": [
    "# a using example of the function\n",
    "show_nulls(df_train_cars, df_test_cars)"
   ]
  },
  {
   "cell_type": "markdown",
   "metadata": {},
   "source": [
    "### 1.2 A function that simply drops the null values."
   ]
  },
  {
   "cell_type": "code",
   "execution_count": 193,
   "metadata": {},
   "outputs": [],
   "source": [
    "def drop_missing_values(df_train, df_test, attribute):\n",
    "    df_train.dropna(subset=[attribute], inplace=True)\n",
    "    df_test.dropna(subset=[attribute], inplace=True)\n",
    "    \n",
    "    return"
   ]
  },
  {
   "cell_type": "markdown",
   "metadata": {},
   "source": [
    "### 1.3 A function that fills the missing values of an attribute with random values ranging from the min value in the data to max."
   ]
  },
  {
   "cell_type": "code",
   "execution_count": 194,
   "metadata": {},
   "outputs": [],
   "source": [
    "def fill_randomly(df_train, df_test, attribute):\n",
    "    min_val = df_train[attribute].min()\n",
    "    max_val = df_train[attribute].max()\n",
    "    \n",
    "    df_train[attribute] = df_train[attribute].fillna(np.random.randint(min_val, max_val))\n",
    "    df_test[attribute] = df_test[attribute].fillna(np.random.randint(min_val, max_val))\n",
    "    \n",
    "    return"
   ]
  },
  {
   "cell_type": "markdown",
   "metadata": {},
   "source": []
  },
  {
   "cell_type": "markdown",
   "metadata": {},
   "source": [
    "### 1.4 A function that fills the nulls with the mean"
   ]
  },
  {
   "cell_type": "code",
   "execution_count": 195,
   "metadata": {},
   "outputs": [],
   "source": [
    "def fill_with_mean(df_train, df_test, attribute):\n",
    "    mean_val = df_train[attribute].mean()\n",
    "    \n",
    "    df_train[attribute] = df_train[attribute].fillna(mean_val)\n",
    "    df_test[attribute] = df_test[attribute].fillna(mean_val)\n",
    "    \n",
    "    return"
   ]
  },
  {
   "cell_type": "markdown",
   "metadata": {},
   "source": [
    "### 1.5 A function that fills the nulls with the median."
   ]
  },
  {
   "cell_type": "code",
   "execution_count": 196,
   "metadata": {},
   "outputs": [],
   "source": [
    "def fill_with_median(df_train, df_test, attribute):\n",
    "    median_val = df_train[attribute].median()\n",
    "    \n",
    "    df_train[attribute] = df_train[attribute].fillna(median_val)\n",
    "    df_test[attribute] = df_test[attribute].fillna(median_val)\n",
    "    \n",
    "    return"
   ]
  },
  {
   "cell_type": "markdown",
   "metadata": {},
   "source": [
    "### 1.6 A function that fills the nulls with the most frequent."
   ]
  },
  {
   "cell_type": "code",
   "execution_count": 197,
   "metadata": {},
   "outputs": [],
   "source": [
    "def fill_with_freq(df_train, df_test, attribute):\n",
    "    freq_val = df_train[attribute].mode()[0] # mode returns a series, so we need to get the first value\n",
    "    \n",
    "    df_train[attribute] = df_train[attribute].fillna(freq_val)\n",
    "    df_test[attribute] = df_test[attribute].fillna(freq_val)\n",
    "    \n",
    "    return"
   ]
  },
  {
   "cell_type": "markdown",
   "metadata": {},
   "source": [
    "### 1.7 A function that fills the nulls using KNN."
   ]
  },
  {
   "cell_type": "code",
   "execution_count": 198,
   "metadata": {},
   "outputs": [],
   "source": [
    "def fill_with_knn(df_train, df_test, attribute, is_categorical):\n",
    "    if is_categorical:\n",
    "        # Convert categorical data to numerical data using OrdinalEncoder\n",
    "        encoder = OrdinalEncoder()\n",
    "        df_train[attribute] = encoder.fit_transform(df_train[[attribute]])\n",
    "        df_test[attribute] = encoder.transform(df_test[[attribute]])\n",
    "    \n",
    "    imputer = KNNImputer(n_neighbors=3, weights='uniform', metric='nan_euclidean')\n",
    "    \n",
    "    df_train[attribute] = imputer.fit_transform(df_train[[attribute]])\n",
    "    df_test[attribute] = imputer.transform(df_test[[attribute]])\n",
    "    \n",
    "    if is_categorical:\n",
    "        # Convert numerical data back to categorical data\n",
    "        df_train[attribute] = encoder.inverse_transform(df_train[[attribute]])\n",
    "        df_test[attribute] = encoder.inverse_transform(df_test[[attribute]])\n",
    "    \n",
    "    return\n"
   ]
  },
  {
   "cell_type": "markdown",
   "metadata": {},
   "source": [
    "### 1.8 A function that uses a Linear Regression model to predict the missing values in the data based on the other features."
   ]
  },
  {
   "cell_type": "code",
   "execution_count": null,
   "metadata": {},
   "outputs": [],
   "source": [
    "\n",
    "def fill_with_linear_regression(df_train, df_test, attribute, target):\n",
    "    df_train = pd.get_dummies(df_train, drop_first=True)\n",
    "    df_test = pd.get_dummies(df_test, drop_first=True)\n",
    "    \n",
    "    # Split the data into two sets: one with missing values and one without\n",
    "    df_train_missing = df_train[df_train[attribute].isnull()]\n",
    "    df_train_not_missing = df_train.dropna(subset=[attribute])\n",
    "    \n",
    "    # Split the data into X and y\n",
    "    X_train = df_train_not_missing.drop(columns=[attribute, target])\n",
    "    # Fill missing values with '-1'\n",
    "    X_train = X_train.fillna(-1)\n",
    "    y_train = df_train_not_missing[attribute]\n",
    "    \n",
    "    # Train a linear regression model\n",
    "    linear_reg = LinearRegression()\n",
    "    linear_reg.fit(X_train, y_train)\n",
    "    \n",
    "    # Predict the missing values\n",
    "    X_test = df_train_missing.drop(columns=[attribute, target])\n",
    "    X_test = X_test.fillna(-1)\n",
    "    y_pred = linear_reg.predict(X_test)\n",
    "    \n",
    "    # Fill the missing values\n",
    "    df_train.loc[df_train[attribute].isnull(), attribute] = y_pred\n",
    "    \n",
    "    # Repeat the process for the test data\n",
    "    df_test_missing = df_test[df_test[attribute].isnull()]\n",
    "    df_test_not_missing = df_test.dropna(subset=[attribute])\n",
    "    \n",
    "    X_test = df_test_not_missing.drop(columns=[attribute, target])\n",
    "    # Fill missing values with '-1'\n",
    "    X_test = X_test.fillna(-1)\n",
    "    y_test = df_test_not_missing[attribute]\n",
    "    y_test = y_test.fillna(-1)\n",
    "    \n",
    "    linear_reg.fit(X_test, y_test)\n",
    "    \n",
    "    X_test = df_test_missing.drop(columns=[attribute, target])\n",
    "    X_test = X_test.fillna(-1)\n",
    "    y_pred = linear_reg.predict(X_test)\n",
    "    \n",
    "    df_test.loc[df_test[attribute].isnull(), attribute] = y_pred\n",
    "    \n",
    "    return"
   ]
  },
  {
   "cell_type": "markdown",
   "metadata": {},
   "source": [
    "# 2. Training the Model using Linear Regression"
   ]
  },
  {
   "cell_type": "code",
   "execution_count": 217,
   "metadata": {},
   "outputs": [],
   "source": [
    "def train_model(df_train, df_test, target):\n",
    "\tX_train = df_train.drop(columns=target)\n",
    "\t# If there are any categorical columns, convert them to numerical using one-hot encoding\n",
    "\tif df_train.select_dtypes(include='object').shape[1] > 0:\n",
    "\t\tX_train = pd.get_dummies(X_train, drop_first=True)\n",
    "\tX_train = X_train.fillna(-1)\n",
    "\t\n",
    "\ty_train = df_train[target]\n",
    "\tX_test = df_test.drop(columns=target)\n",
    "\t# If there are any categorical columns, convert them to numerical using one-hot encoding\n",
    "\tif df_test.select_dtypes(include='object').shape[1] > 0:\n",
    "\t\tX_test = pd.get_dummies(X_test, drop_first=True)\n",
    "\tX_test = X_test.fillna(-1)\n",
    "\ty_test = df_test[target]\n",
    "\t\n",
    "\tlinear_reg = LinearRegression()\n",
    "\tlinear_reg.fit(X_train, y_train)\n",
    "\ty_pred = linear_reg.predict(X_test)\n",
    "\t\t\n",
    "\treturn y_test, y_pred"
   ]
  },
  {
   "cell_type": "markdown",
   "metadata": {},
   "source": [
    "# 3. Error Evaluation Metrics"
   ]
  },
  {
   "cell_type": "markdown",
   "metadata": {},
   "source": [
    "### 3.1 R^2 Score"
   ]
  },
  {
   "cell_type": "code",
   "execution_count": 237,
   "metadata": {},
   "outputs": [],
   "source": [
    "def eval_r2(y_test, y_pred):\n",
    "    r2 = r2_score(y_test, y_pred)\n",
    "    return r2"
   ]
  },
  {
   "cell_type": "markdown",
   "metadata": {},
   "source": [
    "### 3.2 Mean Square Error"
   ]
  },
  {
   "cell_type": "code",
   "execution_count": 248,
   "metadata": {},
   "outputs": [],
   "source": [
    "def eval_mse(y_test, y_pred):\n",
    "    mse = mean_squared_error(y_test, y_pred)\n",
    "    return mse"
   ]
  },
  {
   "cell_type": "markdown",
   "metadata": {},
   "source": [
    "### 3.3 Mean Absolute Percentage Error"
   ]
  },
  {
   "cell_type": "code",
   "execution_count": 249,
   "metadata": {},
   "outputs": [],
   "source": [
    "def eval_mape(y_test, y_pred):\n",
    "    mape = mean_absolute_percentage_error(y_test, y_pred)\n",
    "    return mape"
   ]
  },
  {
   "cell_type": "markdown",
   "metadata": {},
   "source": [
    "### 3.4 Mean Absolute Error"
   ]
  },
  {
   "cell_type": "code",
   "execution_count": 250,
   "metadata": {},
   "outputs": [],
   "source": [
    "def eval_mae(y_test, y_pred):\n",
    "    mae = mean_absolute_error(y_test, y_pred)\n",
    "    return mae"
   ]
  },
  {
   "cell_type": "code",
   "execution_count": 255,
   "metadata": {},
   "outputs": [],
   "source": [
    "def eval_rmse(y_test, y_pred):\n",
    "    rmse = np.sqrt(mean_squared_error(y_test, y_pred))\n",
    "    return rmse"
   ]
  },
  {
   "cell_type": "markdown",
   "metadata": {},
   "source": [
    "# 4. Activating those methods on our data"
   ]
  },
  {
   "cell_type": "code",
   "execution_count": 214,
   "metadata": {},
   "outputs": [],
   "source": [
    "def try_all_methods(df_train, df_test, attribute, target, is_categorical):\n",
    "    df_train_lr = df_train.copy()\n",
    "    df_test_lr = df_test.copy()\n",
    "    fill_with_linear_regression(df_train_lr, df_test_lr, attribute, target)\n",
    "    \n",
    "    df_train_r = df_train.copy()\n",
    "    df_test_r = df_test.copy()\n",
    "    fill_randomly(df_train_r, df_test_r, attribute)\n",
    "    \n",
    "    df_train_mean = df_train.copy()\n",
    "    df_test_mean = df_test.copy()\n",
    "    fill_with_mean(df_train_mean, df_test_mean, attribute)\n",
    "    \n",
    "    df_train_median = df_train.copy()\n",
    "    df_test_median = df_test.copy()\n",
    "    fill_with_median(df_train_median, df_test_median, attribute)\n",
    "\n",
    "    df_train_freq = df_train.copy()\n",
    "    df_test_freq = df_test.copy()\n",
    "    fill_with_freq(df_train_freq, df_test_freq, attribute)\n",
    "    \n",
    "    df_train_knn = df_train.copy()\n",
    "    df_test_knn = df_test.copy()\n",
    "    fill_with_knn(df_train_knn, df_test_knn, attribute, is_categorical)\n",
    "    \n",
    "    df_train_drop = df_train.copy()\n",
    "    df_test_drop = df_test.copy()\n",
    "    drop_missing_values(df_train_drop, df_test_drop, attribute)\n",
    "    \n",
    "    df_array = [df_train_r, df_test_r, df_train_mean, df_test_mean, df_train_median, df_test_median, df_train_freq, df_test_freq, df_train_knn, df_test_knn, df_train_lr, df_test_lr, df_train_drop, df_test_drop]\n",
    "    return df_array"
   ]
  },
  {
   "cell_type": "markdown",
   "metadata": {},
   "source": [
    "Now, calculate the metrics on each of the dataframes we got to compare them."
   ]
  },
  {
   "cell_type": "code",
   "execution_count": null,
   "metadata": {},
   "outputs": [],
   "source": [
    "def compare_fills(df_train, df_test, attribute, target, is_categorical):\n",
    "    df_array = try_all_methods(df_train, df_test, attribute, target, is_categorical)\n",
    "    methods = ['Random', 'Mean', 'Median', 'Frequent', 'KNN', 'Linear Regression', 'Drop']\n",
    "    r2_scores = np.zeros(len(df_array) // 2)\n",
    "    mse_scores = np.zeros(len(df_array) // 2)\n",
    "    mape_scores = np.zeros(len(df_array) // 2)\n",
    "    mae_scores = np.zeros(len(df_array) // 2)\n",
    "    rmse_scores = np.zeros(len(df_array // 2))\n",
    "    \n",
    "    for i in range(0, len(df_array), 2):\n",
    "        y_test, y_pred = train_model(df_array[i], df_array[i + 1], target)\n",
    "        r2_scores[i // 2] = eval_r2(y_test, y_pred)\n",
    "        mse_scores[i // 2] = eval_mse(y_test, y_pred)\n",
    "        mape_scores[i // 2] = eval_mape(y_test, y_pred)\n",
    "        mae_scores[i // 2] = eval_mae(y_test, y_pred)\n",
    "        rmse_scores[i // 2] = eval_rmse(y_test, y_pred)\n",
    "        \n",
    "    r2_scores = pd.Series(r2_scores, index=methods)\n",
    "    mse_scores = pd.Series(mse_scores, index=methods)\n",
    "    mape_scores = pd.Series(mape_scores, index=methods)\n",
    "    mae_scores = pd.Series(mae_scores, index=methods)\n",
    "    rmse_scores = pd.Series(rmse_scores, index=methods)\n",
    "    \n",
    "    return r2_scores, mse_scores, mape_scores, mae_scores, rmse_scores"
   ]
  },
  {
   "cell_type": "code",
   "execution_count": 207,
   "metadata": {},
   "outputs": [
    {
     "data": {
      "text/html": [
       "<div>\n",
       "<style scoped>\n",
       "    .dataframe tbody tr th:only-of-type {\n",
       "        vertical-align: middle;\n",
       "    }\n",
       "\n",
       "    .dataframe tbody tr th {\n",
       "        vertical-align: top;\n",
       "    }\n",
       "\n",
       "    .dataframe thead th {\n",
       "        text-align: right;\n",
       "    }\n",
       "</style>\n",
       "<table border=\"1\" class=\"dataframe\">\n",
       "  <thead>\n",
       "    <tr style=\"text-align: right;\">\n",
       "      <th></th>\n",
       "      <th>model_year</th>\n",
       "      <th>milage</th>\n",
       "      <th>fuel_type</th>\n",
       "      <th>accident</th>\n",
       "      <th>clean_title</th>\n",
       "      <th>int_col_Blue</th>\n",
       "      <th>int_col_Brown</th>\n",
       "      <th>int_col_Green</th>\n",
       "      <th>int_col_Other</th>\n",
       "      <th>int_col_Purple_Pink</th>\n",
       "      <th>...</th>\n",
       "      <th>ext_col_White</th>\n",
       "      <th>ext_col_Yellow_Orange</th>\n",
       "      <th>brand</th>\n",
       "      <th>horse_power</th>\n",
       "      <th>tank_size</th>\n",
       "      <th>num_cylinders</th>\n",
       "      <th>automatic</th>\n",
       "      <th>manual</th>\n",
       "      <th>dual</th>\n",
       "      <th>price</th>\n",
       "    </tr>\n",
       "    <tr>\n",
       "      <th>id</th>\n",
       "      <th></th>\n",
       "      <th></th>\n",
       "      <th></th>\n",
       "      <th></th>\n",
       "      <th></th>\n",
       "      <th></th>\n",
       "      <th></th>\n",
       "      <th></th>\n",
       "      <th></th>\n",
       "      <th></th>\n",
       "      <th></th>\n",
       "      <th></th>\n",
       "      <th></th>\n",
       "      <th></th>\n",
       "      <th></th>\n",
       "      <th></th>\n",
       "      <th></th>\n",
       "      <th></th>\n",
       "      <th></th>\n",
       "      <th></th>\n",
       "      <th></th>\n",
       "    </tr>\n",
       "  </thead>\n",
       "  <tbody>\n",
       "    <tr>\n",
       "      <th>0</th>\n",
       "      <td>2007</td>\n",
       "      <td>213000</td>\n",
       "      <td>Gasoline</td>\n",
       "      <td>False</td>\n",
       "      <td>True</td>\n",
       "      <td>False</td>\n",
       "      <td>False</td>\n",
       "      <td>False</td>\n",
       "      <td>False</td>\n",
       "      <td>False</td>\n",
       "      <td>...</td>\n",
       "      <td>False</td>\n",
       "      <td>True</td>\n",
       "      <td>17474.865362</td>\n",
       "      <td>172.0</td>\n",
       "      <td>1.6</td>\n",
       "      <td>4.0</td>\n",
       "      <td>True</td>\n",
       "      <td>False</td>\n",
       "      <td>False</td>\n",
       "      <td>4200</td>\n",
       "    </tr>\n",
       "    <tr>\n",
       "      <th>1</th>\n",
       "      <td>2002</td>\n",
       "      <td>143250</td>\n",
       "      <td>Gasoline</td>\n",
       "      <td>True</td>\n",
       "      <td>True</td>\n",
       "      <td>False</td>\n",
       "      <td>True</td>\n",
       "      <td>False</td>\n",
       "      <td>False</td>\n",
       "      <td>False</td>\n",
       "      <td>...</td>\n",
       "      <td>False</td>\n",
       "      <td>False</td>\n",
       "      <td>30254.776847</td>\n",
       "      <td>252.0</td>\n",
       "      <td>3.9</td>\n",
       "      <td>8.0</td>\n",
       "      <td>True</td>\n",
       "      <td>False</td>\n",
       "      <td>False</td>\n",
       "      <td>4999</td>\n",
       "    </tr>\n",
       "    <tr>\n",
       "      <th>2</th>\n",
       "      <td>2002</td>\n",
       "      <td>136731</td>\n",
       "      <td>E85 Flex Fuel</td>\n",
       "      <td>False</td>\n",
       "      <td>True</td>\n",
       "      <td>False</td>\n",
       "      <td>False</td>\n",
       "      <td>False</td>\n",
       "      <td>False</td>\n",
       "      <td>False</td>\n",
       "      <td>...</td>\n",
       "      <td>False</td>\n",
       "      <td>False</td>\n",
       "      <td>42160.109066</td>\n",
       "      <td>320.0</td>\n",
       "      <td>5.3</td>\n",
       "      <td>8.0</td>\n",
       "      <td>True</td>\n",
       "      <td>False</td>\n",
       "      <td>False</td>\n",
       "      <td>13900</td>\n",
       "    </tr>\n",
       "    <tr>\n",
       "      <th>3</th>\n",
       "      <td>2017</td>\n",
       "      <td>19500</td>\n",
       "      <td>Gasoline</td>\n",
       "      <td>False</td>\n",
       "      <td>True</td>\n",
       "      <td>False</td>\n",
       "      <td>False</td>\n",
       "      <td>False</td>\n",
       "      <td>False</td>\n",
       "      <td>False</td>\n",
       "      <td>...</td>\n",
       "      <td>False</td>\n",
       "      <td>False</td>\n",
       "      <td>54883.714834</td>\n",
       "      <td>420.0</td>\n",
       "      <td>5.0</td>\n",
       "      <td>8.0</td>\n",
       "      <td>False</td>\n",
       "      <td>False</td>\n",
       "      <td>True</td>\n",
       "      <td>45000</td>\n",
       "    </tr>\n",
       "    <tr>\n",
       "      <th>4</th>\n",
       "      <td>2021</td>\n",
       "      <td>7388</td>\n",
       "      <td>Gasoline</td>\n",
       "      <td>False</td>\n",
       "      <td>True</td>\n",
       "      <td>False</td>\n",
       "      <td>True</td>\n",
       "      <td>False</td>\n",
       "      <td>False</td>\n",
       "      <td>False</td>\n",
       "      <td>...</td>\n",
       "      <td>False</td>\n",
       "      <td>False</td>\n",
       "      <td>51422.492446</td>\n",
       "      <td>208.0</td>\n",
       "      <td>2.0</td>\n",
       "      <td>4.0</td>\n",
       "      <td>True</td>\n",
       "      <td>False</td>\n",
       "      <td>False</td>\n",
       "      <td>97500</td>\n",
       "    </tr>\n",
       "  </tbody>\n",
       "</table>\n",
       "<p>5 rows × 31 columns</p>\n",
       "</div>"
      ],
      "text/plain": [
       "    model_year  milage      fuel_type accident clean_title  int_col_Blue  \\\n",
       "id                                                                         \n",
       "0         2007  213000       Gasoline    False        True         False   \n",
       "1         2002  143250       Gasoline     True        True         False   \n",
       "2         2002  136731  E85 Flex Fuel    False        True         False   \n",
       "3         2017   19500       Gasoline    False        True         False   \n",
       "4         2021    7388       Gasoline    False        True         False   \n",
       "\n",
       "    int_col_Brown  int_col_Green  int_col_Other  int_col_Purple_Pink  ...  \\\n",
       "id                                                                    ...   \n",
       "0           False          False          False                False  ...   \n",
       "1            True          False          False                False  ...   \n",
       "2           False          False          False                False  ...   \n",
       "3           False          False          False                False  ...   \n",
       "4            True          False          False                False  ...   \n",
       "\n",
       "    ext_col_White  ext_col_Yellow_Orange         brand  horse_power  \\\n",
       "id                                                                    \n",
       "0           False                   True  17474.865362        172.0   \n",
       "1           False                  False  30254.776847        252.0   \n",
       "2           False                  False  42160.109066        320.0   \n",
       "3           False                  False  54883.714834        420.0   \n",
       "4           False                  False  51422.492446        208.0   \n",
       "\n",
       "    tank_size  num_cylinders  automatic  manual   dual  price  \n",
       "id                                                             \n",
       "0         1.6            4.0       True   False  False   4200  \n",
       "1         3.9            8.0       True   False  False   4999  \n",
       "2         5.3            8.0       True   False  False  13900  \n",
       "3         5.0            8.0      False   False   True  45000  \n",
       "4         2.0            4.0       True   False  False  97500  \n",
       "\n",
       "[5 rows x 31 columns]"
      ]
     },
     "execution_count": 207,
     "metadata": {},
     "output_type": "execute_result"
    }
   ],
   "source": [
    "df_train_cars.head()"
   ]
  },
  {
   "cell_type": "code",
   "execution_count": 225,
   "metadata": {},
   "outputs": [],
   "source": [
    "df_arr = try_all_methods(df_train_cars, df_test_cars, 'horse_power', 'price', False)"
   ]
  },
  {
   "cell_type": "code",
   "execution_count": 226,
   "metadata": {},
   "outputs": [],
   "source": [
    "y_test, y_pred = train_model(df_arr[0], df_arr[1], 'price')\n"
   ]
  },
  {
   "cell_type": "code",
   "execution_count": 257,
   "metadata": {},
   "outputs": [],
   "source": [
    "target = 'price'\n",
    "methods = ['Random', 'Mean', 'Median', 'Frequent', 'KNN', 'Linear Regression', 'Drop']\n",
    "r2_scores = np.zeros(len(df_arr) // 2)\n",
    "mse_scores = np.zeros(len(df_arr) // 2)\n",
    "mape_scores = np.zeros(len(df_arr) // 2)\n",
    "mae_scores = np.zeros(len(df_arr) // 2)\n",
    "rmse_scores = np.zeros(len(df_arr) // 2)\n",
    "\n",
    "for i in range(0, len(df_arr), 2):\n",
    "    y_test, y_pred = train_model(df_arr[i], df_arr[i + 1], target)\n",
    "    r2_scores[i // 2] = eval_r2(y_test, y_pred)\n",
    "    mse_scores[i // 2] = eval_mse(y_test, y_pred)\n",
    "    mape_scores[i // 2] = eval_mape(y_test, y_pred)\n",
    "    mae_scores[i // 2] = eval_mae(y_test, y_pred)\n",
    "    rmse_scores[i // 2] = eval_rmse(y_test, y_pred)\n",
    "    \n",
    "r2_scores = pd.Series(r2_scores, index=methods)\n",
    "mse_scores = pd.Series(mse_scores, index=methods)\n",
    "mape_scores = pd.Series(mape_scores, index=methods)\n",
    "mae_scores = pd.Series(mae_scores, index=methods)\n",
    "rmse_scores = pd.Series(rmse_scores, index=methods)\n"
   ]
  },
  {
   "cell_type": "markdown",
   "metadata": {},
   "source": [
    "Plot the outcome of each imputing method in a table"
   ]
  },
  {
   "cell_type": "code",
   "execution_count": 295,
   "metadata": {},
   "outputs": [],
   "source": [
    "def plot_scores(r2_scores, mse_scores, mape_scores, mae_scores, rmse_scores):\n",
    "    mape_scores = np.array(mape_scores) * 100\n",
    "    mape_scores = np.round(mape_scores, 3)\n",
    "    mape_scores = mape_scores.astype(str) + '%'\n",
    "    \n",
    "    methods = ['Random', 'Mean', 'Median', 'Frequent', 'KNN', 'Linear Regression', 'Drop']\n",
    "    scores = pd.DataFrame({\n",
    "        'R2 Score': np.round(r2_scores, 3),\n",
    "        'MSE Score': np.round(mse_scores, 3),\n",
    "        'RMSE Score': np.round(rmse_scores, 3),\n",
    "        'MAPE Score': mape_scores,\n",
    "        'MAE Score': np.round(mae_scores, 3)\n",
    "    }, index=methods)\n",
    "    \n",
    "    fig, ax = plt.subplots(figsize=(15, 4))\n",
    "    ax.title.set_text('Error Evaluation Metrics for Different Methods')\n",
    "    ax.title.set_fontsize(20)\n",
    "    ax.title.set_fontweight('bold')\n",
    "    ax.axis('tight')\n",
    "    ax.axis('off')\n",
    "    table = ax.table(cellText=scores.values, colLabels=scores.columns, rowLabels=scores.index, cellLoc='center', loc='center')\n",
    "    table.auto_set_font_size(False)\n",
    "    table.set_fontsize(16)\n",
    "    table.scale(1,1.5)\n",
    "    \n",
    "    plt.show()"
   ]
  },
  {
   "cell_type": "code",
   "execution_count": 296,
   "metadata": {},
   "outputs": [
    {
     "data": {
      "image/png": "[encoded data removed]",
      "text/plain": [
       "<Figure size 1500x400 with 1 Axes>"
      ]
     },
     "metadata": {},
     "output_type": "display_data"
    }
   ],
   "source": [
    "plot_scores(r2_scores, mse_scores, mape_scores, mae_scores, rmse_scores)"
   ]
  },
  {
   "cell_type": "code",
   "execution_count": 297,
   "metadata": {},
   "outputs": [
    {
     "name": "stdout",
     "output_type": "stream",
     "text": [
      "                   R2 Score     MSE Score  RMSE Score MAPE Score  MAE Score\n",
      "Random                0.113  5.787306e+09   76074.348    75.755%  23218.197\n",
      "Mean                  0.114  5.782628e+09   76043.592    75.424%  23146.392\n",
      "Median                0.114  5.782709e+09   76044.126    75.422%  23145.993\n",
      "Frequent              0.114  5.782943e+09   76045.665    75.424%  23146.321\n",
      "KNN                   0.114  5.782628e+09   76043.592    75.424%  23146.392\n",
      "Linear Regression     0.113  5.789141e+09   76086.405    75.877%  23230.205\n",
      "Drop                  0.135  3.861756e+09   62143.031    71.151%  19190.092\n"
     ]
    }
   ],
   "source": [
    "def print_scores(r2_scores, mse_scores, mape_scores, mae_scores, rmse_scores):\n",
    "    mape_scores = np.array(mape_scores) * 100\n",
    "    mape_scores = np.round(mape_scores, 3)\n",
    "    mape_scores = mape_scores.astype(str) + '%'\n",
    "    \n",
    "    methods = ['Random', 'Mean', 'Median', 'Frequent', 'KNN', 'Linear Regression', 'Drop']\n",
    "    scores = pd.DataFrame({\n",
    "        'R2 Score': np.round(r2_scores, 3),\n",
    "        'MSE Score': np.round(mse_scores, 3),\n",
    "        'RMSE Score': np.round(rmse_scores, 3),\n",
    "        'MAPE Score': mape_scores,\n",
    "        'MAE Score': np.round(mae_scores, 3)\n",
    "    }, index=methods)\n",
    "    \n",
    "    print(scores)\n",
    "    return\n",
    "\n",
    "print_scores(r2_scores, mse_scores, mape_scores, mae_scores, rmse_scores)"
   ]
  },
  {
   "cell_type": "code",
   "execution_count": 298,
   "metadata": {},
   "outputs": [
    {
     "name": "stdout",
     "output_type": "stream",
     "text": [
      "\u001b[1mRandom:\u001b[0m\n"
     ]
    }
   ],
   "source": [
    "print('\\033[1mRandom:\\033[0m')"
   ]
  },
  {
   "cell_type": "code",
   "execution_count": null,
   "metadata": {},
   "outputs": [],
   "source": []
  }
 ],
 "metadata": {
  "kernelspec": {
   "display_name": ".venv",
   "language": "python",
   "name": "python3"
  },
  "language_info": {
   "codemirror_mode": {
    "name": "ipython",
    "version": 3
   },
   "file_extension": ".py",
   "mimetype": "text/x-python",
   "name": "python",
   "nbconvert_exporter": "python",
   "pygments_lexer": "ipython3",
   "version": "3.12.1"
  }
 },
 "nbformat": 4,
 "nbformat_minor": 2
}
