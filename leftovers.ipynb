{
 "cells": [
  {
   "cell_type": "markdown",
   "metadata": {},
   "source": [
    "# 2. Filling Null values"
   ]
  },
  {
   "cell_type": "code",
   "execution_count": null,
   "metadata": {},
   "outputs": [],
   "source": [
    "def ImputerOne(X):\n",
    "\tX = X.copy()\n",
    "\t\n",
    "\t# Drop null values based on specific conditions\n",
    "\tX = X[X['fuel_type'].notna() & (X['fuel_type'] != 'not supported') & (X['fuel_type'] != '–')]\n",
    "\tX = X[X['accident'].notna()]\n",
    "\t\n",
    "\t# Fill missing values in 'clean_title' column with False\n",
    "\tX['clean_title'] = X['clean_title'].fillna(False)\n",
    "\n",
    "\t# Fill missing values in 'horse_power', 'tank_size', and 'num_cylinders' columns with the mean rounded to the nearest whole number.\n",
    "\tX['horse_power'] = X['horse_power'].fillna(round(X['horse_power'].mean()))\n",
    "\n",
    "\tX['tank_size'] = X['tank_size'].fillna(round(X['tank_size'].mean()))\n",
    "\n",
    "\tX['num_cylinders'] = X['num_cylinders'].fillna(round(X['num_cylinders'].mean()))\n",
    "\t\n",
    "\treturn X"
   ]
  },
  {
   "cell_type": "markdown",
   "metadata": {},
   "source": [
    "# 3. Visualizations"
   ]
  },
  {
   "cell_type": "markdown",
   "metadata": {},
   "source": [
    "Average Car Price by Model Year"
   ]
  },
  {
   "cell_type": "code",
   "execution_count": null,
   "metadata": {},
   "outputs": [],
   "source": [
    "# Group by model year and calculate the mean price\n",
    "average_prices = df_tranformed.groupby('model_year')['price'].mean()\n",
    "\n",
    "# Create a line plot\n",
    "plt.figure(figsize=(15, 7))\n",
    "plt.plot(average_prices.index, average_prices, marker='o', color='blue', label='Average Price')\n",
    "\n",
    "# Add titles and labels\n",
    "plt.title('Average Car Price by Model Year', fontsize=16)\n",
    "plt.xlabel('Model Year', fontsize=12)\n",
    "plt.ylabel('Average Price (USD)', fontsize=12)\n",
    "plt.grid(alpha=0.3)\n",
    "plt.legend()\n",
    "plt.show()"
   ]
  },
  {
   "cell_type": "markdown",
   "metadata": {},
   "source": [
    "3D Attribute (engine) vs Price"
   ]
  },
  {
   "cell_type": "code",
   "execution_count": null,
   "metadata": {},
   "outputs": [],
   "source": [
    "fig = plt.figure(figsize=(20, 7))\n",
    "ax = fig.add_subplot(111, projection='3d')\n",
    "\n",
    "prices_clipped = df_tranformed['price'].clip(0, 500000)\n",
    "\n",
    "# Scatter plot\n",
    "sc = ax.scatter(df_tranformed['horse_power'], df_tranformed['tank_size'],\n",
    "\t\t\t\tdf_tranformed['model_year'], c=prices_clipped,\n",
    "\t\t\t\tcmap='viridis', s=50, alpha=0.5)\n",
    "\n",
    "# Add labels and title\n",
    "ax.set_title('Attributes vs. Price')\n",
    "ax.set_xlabel('Horsepower (HP)')\n",
    "ax.set_ylabel('Tank Size (L)')\n",
    "ax.set_zlabel('Model Year')\n",
    "\n",
    "# Add a color bar to represent the price\n",
    "cbar = plt.colorbar(sc, ax=ax, shrink=0.5, aspect=10)\n",
    "cbar.set_label('Prices (USD)')\n",
    "\n",
    "plt.show()"
   ]
  },
  {
   "cell_type": "markdown",
   "metadata": {},
   "source": [
    "Milage vs Price"
   ]
  },
  {
   "cell_type": "code",
   "execution_count": null,
   "metadata": {},
   "outputs": [],
   "source": [
    "fig, ax = plt.subplots(figsize=(10,7))\n",
    "sns.scatterplot(data=df_tranformed, x='milage', y='price', ax=ax)\n",
    "plt.title('Mileage vs. Price')\n",
    "plt.xlabel('Mileage (in miles)')\n",
    "plt.ylabel('Price (in USD)')\n",
    "plt.show()"
   ]
  },
  {
   "cell_type": "markdown",
   "metadata": {},
   "source": [
    "Violin plot of Fuel Type and Price.\n",
    "need to change"
   ]
  },
  {
   "cell_type": "code",
   "execution_count": null,
   "metadata": {},
   "outputs": [],
   "source": [
    "fig, ax = plt.subplots(figsize=(10,7))\n",
    "sns.violinplot(x='fuel_type', y='price', data=df_tranformed, ax=ax)"
   ]
  },
  {
   "cell_type": "markdown",
   "metadata": {},
   "source": [
    "Engine attribute vs price (not clipped, non log scale)"
   ]
  },
  {
   "cell_type": "code",
   "execution_count": null,
   "metadata": {},
   "outputs": [],
   "source": [
    "fig = plt.figure(figsize=(10, 7))\n",
    "ax = fig.add_subplot(111, projection='3d')\n",
    "\n",
    "prices_clipped = df_tranformed['price'].clip(0, 500000)\n",
    "\n",
    "# Scatter plot\n",
    "sc = ax.scatter(df_tranformed['horse_power'], df_tranformed['num_cylinders'],\n",
    "\t\t\t\tdf_tranformed['tank_size'], c=prices_clipped,\n",
    "\t\t\t\tcmap='viridis', s=50, alpha=0.6)\n",
    "\n",
    "# Add labels and title\n",
    "ax.set_title('Engine Attributes vs. Price')\n",
    "ax.set_xlabel('Horsepower (HP)')\n",
    "ax.set_ylabel('Number of Cylinders')\n",
    "ax.set_zlabel('Fuel Tank Size (L)')\n",
    "\n",
    "# Add a color bar to represent the price\n",
    "cbar = plt.colorbar(sc, ax=ax, shrink=0.5, aspect=10)\n",
    "cbar.set_label('Prices (USD)')\n",
    "\n",
    "plt.show()"
   ]
  }
 ],
 "metadata": {
  "kernelspec": {
   "display_name": ".venv",
   "language": "python",
   "name": "python3"
  },
  "language_info": {
   "codemirror_mode": {
    "name": "ipython",
    "version": 3
   },
   "file_extension": ".py",
   "mimetype": "text/x-python",
   "name": "python",
   "nbconvert_exporter": "python",
   "pygments_lexer": "ipython3",
   "version": "3.12.3"
  }
 },
 "nbformat": 4,
 "nbformat_minor": 2
}
